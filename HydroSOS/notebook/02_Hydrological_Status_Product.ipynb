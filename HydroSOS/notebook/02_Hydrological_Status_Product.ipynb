{
 "cells": [
  {
   "cell_type": "markdown",
   "metadata": {},
   "source": [
    "# HydroSOS Streamflow Status Product Methodology\n",
    "#### Jose Valles (jose.valles.leon@gmail.com)"
   ]
  },
  {
   "cell_type": "code",
   "execution_count": 1,
   "metadata": {},
   "outputs": [],
   "source": [
    "# Import libraries\n",
    "import os\n",
    "import sys\n",
    "import requests\n",
    "import json \n",
    "\n",
    "from IPython.display import HTML\n",
    "\n",
    "\n",
    "# This code line allows to remove warning produce by verify = False\n",
    "from requests.packages.urllib3.exceptions import InsecureRequestWarning\n",
    "requests.packages.urllib3.disable_warnings(InsecureRequestWarning)"
   ]
  },
  {
   "cell_type": "markdown",
   "metadata": {},
   "source": [
    "Import HydroSOS_scripts module package \\\n",
    "Make sure that in the path command is defined the folder path of the HydroSOS_script package"
   ]
  },
  {
   "cell_type": "code",
   "execution_count": 2,
   "metadata": {},
   "outputs": [],
   "source": [
    "# Define the path to the python HydroSOS Package\n",
    "sys.path.append('..')\n",
    "\n",
    "import HydroSOS_scripts.get_status_product as SOS\n",
    "import HydroSOS_scripts.aggregate_variable as aggvar\n"
   ]
  },
  {
   "cell_type": "markdown",
   "metadata": {},
   "source": [
    "## Test HydroSOS Package using a single csv file\n",
    "First, we are going to test the package for a single streamflow location. \\\n",
    "the user must provide the input directory of the file (or files) and the filename"
   ]
  },
  {
   "cell_type": "code",
   "execution_count": 3,
   "metadata": {},
   "outputs": [],
   "source": [
    "input_directory = '../waterbalance/input/'\n",
    "filename = '60.csv'"
   ]
  },
  {
   "cell_type": "markdown",
   "metadata": {},
   "source": [
    "We will use the import_data function which allows to import data from a csv file \\\n",
    "Recall that the csv file should have three columns: stationid, date, flow, "
   ]
  },
  {
   "cell_type": "code",
   "execution_count": 4,
   "metadata": {},
   "outputs": [],
   "source": [
    "# flowdata, stationid = aggvar.import_data(input_directory, filename)\n",
    "MONTHLY_DISCHARGE, stationid = aggvar.import_monthly(input_directory, filename)"
   ]
  },
  {
   "cell_type": "markdown",
   "metadata": {},
   "source": [
    "The workflow of this python package is: \n",
    "* convert daily to monthly discharge\n",
    "* calculate the percentage of average based on the monthly climatology\n",
    "* calculate the rank percentile\n",
    "* using the Weibull formula, we assign the status categories (1-LowFlow, 2-BelowNormal, 3-Normal, 4-AboveNormal, 5-HighFlow)"
   ]
  },
  {
   "cell_type": "code",
   "execution_count": null,
   "metadata": {},
   "outputs": [],
   "source": [
    "MONTHLY_DISCHARGE = aggvar.calculate_monthly(flowdata)\n",
    "HTML(MONTHLY_DISCHARGE.tail(12).to_html())"
   ]
  },
  {
   "cell_type": "code",
   "execution_count": 5,
   "metadata": {},
   "outputs": [
    {
     "data": {
      "text/html": [
       "<table border=\"1\" class=\"dataframe\">\n",
       "  <thead>\n",
       "    <tr style=\"text-align: right;\">\n",
       "      <th></th>\n",
       "      <th>date</th>\n",
       "      <th>month</th>\n",
       "      <th>year</th>\n",
       "      <th>mean_flow</th>\n",
       "      <th>percentile_flow</th>\n",
       "      <th>rank_average</th>\n",
       "      <th>complete%</th>\n",
       "      <th>weibell_rank</th>\n",
       "      <th>percentile_range</th>\n",
       "      <th>flowcat</th>\n",
       "    </tr>\n",
       "  </thead>\n",
       "  <tbody>\n",
       "    <tr>\n",
       "      <th>523</th>\n",
       "      <td>2023-08-01</td>\n",
       "      <td>8</td>\n",
       "      <td>2023</td>\n",
       "      <td>35.723896</td>\n",
       "      <td>-0.680392</td>\n",
       "      <td>5.0</td>\n",
       "      <td>44.0</td>\n",
       "      <td>0.111111</td>\n",
       "      <td>Below normal</td>\n",
       "      <td>2</td>\n",
       "    </tr>\n",
       "    <tr>\n",
       "      <th>524</th>\n",
       "      <td>2023-09-01</td>\n",
       "      <td>9</td>\n",
       "      <td>2023</td>\n",
       "      <td>50.252104</td>\n",
       "      <td>-0.468909</td>\n",
       "      <td>12.0</td>\n",
       "      <td>44.0</td>\n",
       "      <td>0.266667</td>\n",
       "      <td>Normal range</td>\n",
       "      <td>3</td>\n",
       "    </tr>\n",
       "    <tr>\n",
       "      <th>525</th>\n",
       "      <td>2023-10-01</td>\n",
       "      <td>10</td>\n",
       "      <td>2023</td>\n",
       "      <td>29.884430</td>\n",
       "      <td>-0.680376</td>\n",
       "      <td>10.0</td>\n",
       "      <td>44.0</td>\n",
       "      <td>0.222222</td>\n",
       "      <td>Below normal</td>\n",
       "      <td>2</td>\n",
       "    </tr>\n",
       "    <tr>\n",
       "      <th>526</th>\n",
       "      <td>2023-11-01</td>\n",
       "      <td>11</td>\n",
       "      <td>2023</td>\n",
       "      <td>15.254896</td>\n",
       "      <td>-0.741520</td>\n",
       "      <td>9.0</td>\n",
       "      <td>44.0</td>\n",
       "      <td>0.200000</td>\n",
       "      <td>Below normal</td>\n",
       "      <td>2</td>\n",
       "    </tr>\n",
       "    <tr>\n",
       "      <th>527</th>\n",
       "      <td>2023-12-01</td>\n",
       "      <td>12</td>\n",
       "      <td>2023</td>\n",
       "      <td>68.302716</td>\n",
       "      <td>0.980778</td>\n",
       "      <td>38.0</td>\n",
       "      <td>44.0</td>\n",
       "      <td>0.844444</td>\n",
       "      <td>Above normal</td>\n",
       "      <td>4</td>\n",
       "    </tr>\n",
       "    <tr>\n",
       "      <th>528</th>\n",
       "      <td>2024-01-01</td>\n",
       "      <td>1</td>\n",
       "      <td>2024</td>\n",
       "      <td>31.180262</td>\n",
       "      <td>0.695349</td>\n",
       "      <td>35.0</td>\n",
       "      <td>45.0</td>\n",
       "      <td>0.760870</td>\n",
       "      <td>Above normal</td>\n",
       "      <td>4</td>\n",
       "    </tr>\n",
       "    <tr>\n",
       "      <th>529</th>\n",
       "      <td>2024-02-01</td>\n",
       "      <td>2</td>\n",
       "      <td>2024</td>\n",
       "      <td>14.343698</td>\n",
       "      <td>-0.596178</td>\n",
       "      <td>26.0</td>\n",
       "      <td>45.0</td>\n",
       "      <td>0.565217</td>\n",
       "      <td>Normal range</td>\n",
       "      <td>3</td>\n",
       "    </tr>\n",
       "    <tr>\n",
       "      <th>530</th>\n",
       "      <td>2024-03-01</td>\n",
       "      <td>3</td>\n",
       "      <td>2024</td>\n",
       "      <td>361.387668</td>\n",
       "      <td>6.142502</td>\n",
       "      <td>44.0</td>\n",
       "      <td>45.0</td>\n",
       "      <td>0.956522</td>\n",
       "      <td>High flow</td>\n",
       "      <td>5</td>\n",
       "    </tr>\n",
       "    <tr>\n",
       "      <th>531</th>\n",
       "      <td>2024-04-01</td>\n",
       "      <td>4</td>\n",
       "      <td>2024</td>\n",
       "      <td>233.044506</td>\n",
       "      <td>4.293583</td>\n",
       "      <td>43.0</td>\n",
       "      <td>45.0</td>\n",
       "      <td>0.934783</td>\n",
       "      <td>High flow</td>\n",
       "      <td>5</td>\n",
       "    </tr>\n",
       "    <tr>\n",
       "      <th>532</th>\n",
       "      <td>2024-05-01</td>\n",
       "      <td>5</td>\n",
       "      <td>2024</td>\n",
       "      <td>226.776251</td>\n",
       "      <td>2.511804</td>\n",
       "      <td>43.0</td>\n",
       "      <td>45.0</td>\n",
       "      <td>0.934783</td>\n",
       "      <td>High flow</td>\n",
       "      <td>5</td>\n",
       "    </tr>\n",
       "    <tr>\n",
       "      <th>533</th>\n",
       "      <td>2024-06-01</td>\n",
       "      <td>6</td>\n",
       "      <td>2024</td>\n",
       "      <td>149.088506</td>\n",
       "      <td>0.479174</td>\n",
       "      <td>33.0</td>\n",
       "      <td>45.0</td>\n",
       "      <td>0.717391</td>\n",
       "      <td>Normal range</td>\n",
       "      <td>3</td>\n",
       "    </tr>\n",
       "    <tr>\n",
       "      <th>534</th>\n",
       "      <td>2024-07-01</td>\n",
       "      <td>7</td>\n",
       "      <td>2024</td>\n",
       "      <td>50.750828</td>\n",
       "      <td>-0.532013</td>\n",
       "      <td>15.0</td>\n",
       "      <td>45.0</td>\n",
       "      <td>0.326087</td>\n",
       "      <td>Normal range</td>\n",
       "      <td>3</td>\n",
       "    </tr>\n",
       "  </tbody>\n",
       "</table>"
      ],
      "text/plain": [
       "<IPython.core.display.HTML object>"
      ]
     },
     "execution_count": 5,
     "metadata": {},
     "output_type": "execute_result"
    }
   ],
   "source": [
    "MONTHLY_STATUS = SOS.monthly_status(MONTHLY_DISCHARGE)\n",
    "HTML(MONTHLY_STATUS.tail(12).to_html())"
   ]
  },
  {
   "cell_type": "code",
   "execution_count": null,
   "metadata": {},
   "outputs": [],
   "source": [
    "output_directory = '../output_csv/01_month/'\n",
    "filename = stationid\n",
    "\n",
    "SOS.export_csv(MONTHLY_STATUS,output_directory,filename)"
   ]
  },
  {
   "cell_type": "markdown",
   "metadata": {},
   "source": [
    "### Calculate the Accumulated Hydrological Status for 3-Months (Quaterly)\n",
    "\n",
    "After testing the HydroSOS Package and sending the results to Dinagua Web Service, we calculate the accumulated status product"
   ]
  },
  {
   "cell_type": "code",
   "execution_count": 6,
   "metadata": {},
   "outputs": [
    {
     "data": {
      "text/html": [
       "<table border=\"1\" class=\"dataframe\">\n",
       "  <thead>\n",
       "    <tr style=\"text-align: right;\">\n",
       "      <th></th>\n",
       "      <th>date</th>\n",
       "      <th>startMonth</th>\n",
       "      <th>endMonth</th>\n",
       "      <th>month</th>\n",
       "      <th>year</th>\n",
       "      <th>mean_flow</th>\n",
       "    </tr>\n",
       "  </thead>\n",
       "  <tbody>\n",
       "    <tr>\n",
       "      <th>529</th>\n",
       "      <td>2024-02-01</td>\n",
       "      <td>12</td>\n",
       "      <td>2</td>\n",
       "      <td>2</td>\n",
       "      <td>2024</td>\n",
       "      <td>37.942225</td>\n",
       "    </tr>\n",
       "    <tr>\n",
       "      <th>530</th>\n",
       "      <td>2024-03-01</td>\n",
       "      <td>1</td>\n",
       "      <td>3</td>\n",
       "      <td>3</td>\n",
       "      <td>2024</td>\n",
       "      <td>135.637209</td>\n",
       "    </tr>\n",
       "    <tr>\n",
       "      <th>531</th>\n",
       "      <td>2024-04-01</td>\n",
       "      <td>2</td>\n",
       "      <td>4</td>\n",
       "      <td>4</td>\n",
       "      <td>2024</td>\n",
       "      <td>202.925291</td>\n",
       "    </tr>\n",
       "    <tr>\n",
       "      <th>532</th>\n",
       "      <td>2024-05-01</td>\n",
       "      <td>3</td>\n",
       "      <td>5</td>\n",
       "      <td>5</td>\n",
       "      <td>2024</td>\n",
       "      <td>273.736142</td>\n",
       "    </tr>\n",
       "    <tr>\n",
       "      <th>533</th>\n",
       "      <td>2024-06-01</td>\n",
       "      <td>4</td>\n",
       "      <td>6</td>\n",
       "      <td>6</td>\n",
       "      <td>2024</td>\n",
       "      <td>202.969754</td>\n",
       "    </tr>\n",
       "    <tr>\n",
       "      <th>534</th>\n",
       "      <td>2024-07-01</td>\n",
       "      <td>5</td>\n",
       "      <td>7</td>\n",
       "      <td>7</td>\n",
       "      <td>2024</td>\n",
       "      <td>142.205195</td>\n",
       "    </tr>\n",
       "  </tbody>\n",
       "</table>"
      ],
      "text/plain": [
       "<IPython.core.display.HTML object>"
      ]
     },
     "execution_count": 6,
     "metadata": {},
     "output_type": "execute_result"
    }
   ],
   "source": [
    "DISCHARGE_THREE_MONTHS = aggvar.calculate_accumulated(MONTHLY_DISCHARGE, 3)\n",
    "HTML(DISCHARGE_THREE_MONTHS.tail(6).to_html())"
   ]
  },
  {
   "cell_type": "code",
   "execution_count": 7,
   "metadata": {},
   "outputs": [
    {
     "data": {
      "text/html": [
       "<table border=\"1\" class=\"dataframe\">\n",
       "  <thead>\n",
       "    <tr style=\"text-align: right;\">\n",
       "      <th></th>\n",
       "      <th>date</th>\n",
       "      <th>startMonth</th>\n",
       "      <th>endMonth</th>\n",
       "      <th>month</th>\n",
       "      <th>year</th>\n",
       "      <th>mean_flow</th>\n",
       "      <th>percentage_flow</th>\n",
       "      <th>rank_average</th>\n",
       "      <th>complete%</th>\n",
       "      <th>weibell_rank</th>\n",
       "      <th>percentile_range</th>\n",
       "      <th>flowcat</th>\n",
       "      <th>period</th>\n",
       "    </tr>\n",
       "  </thead>\n",
       "  <tbody>\n",
       "    <tr>\n",
       "      <th>529</th>\n",
       "      <td>2024-02-01</td>\n",
       "      <td>12</td>\n",
       "      <td>2</td>\n",
       "      <td>2</td>\n",
       "      <td>2024</td>\n",
       "      <td>37.942225</td>\n",
       "      <td>0.429244</td>\n",
       "      <td>34.0</td>\n",
       "      <td>44.0</td>\n",
       "      <td>0.755556</td>\n",
       "      <td>Above normal</td>\n",
       "      <td>4</td>\n",
       "      <td>DEF</td>\n",
       "    </tr>\n",
       "    <tr>\n",
       "      <th>530</th>\n",
       "      <td>2024-03-01</td>\n",
       "      <td>1</td>\n",
       "      <td>3</td>\n",
       "      <td>3</td>\n",
       "      <td>2024</td>\n",
       "      <td>135.637209</td>\n",
       "      <td>3.250963</td>\n",
       "      <td>43.0</td>\n",
       "      <td>45.0</td>\n",
       "      <td>0.934783</td>\n",
       "      <td>High flow</td>\n",
       "      <td>5</td>\n",
       "      <td>JFM</td>\n",
       "    </tr>\n",
       "    <tr>\n",
       "      <th>531</th>\n",
       "      <td>2024-04-01</td>\n",
       "      <td>2</td>\n",
       "      <td>4</td>\n",
       "      <td>4</td>\n",
       "      <td>2024</td>\n",
       "      <td>202.925291</td>\n",
       "      <td>3.974243</td>\n",
       "      <td>44.0</td>\n",
       "      <td>45.0</td>\n",
       "      <td>0.956522</td>\n",
       "      <td>High flow</td>\n",
       "      <td>5</td>\n",
       "      <td>FMA</td>\n",
       "    </tr>\n",
       "    <tr>\n",
       "      <th>532</th>\n",
       "      <td>2024-05-01</td>\n",
       "      <td>3</td>\n",
       "      <td>5</td>\n",
       "      <td>5</td>\n",
       "      <td>2024</td>\n",
       "      <td>273.736142</td>\n",
       "      <td>4.131489</td>\n",
       "      <td>44.0</td>\n",
       "      <td>45.0</td>\n",
       "      <td>0.956522</td>\n",
       "      <td>High flow</td>\n",
       "      <td>5</td>\n",
       "      <td>MAM</td>\n",
       "    </tr>\n",
       "    <tr>\n",
       "      <th>533</th>\n",
       "      <td>2024-06-01</td>\n",
       "      <td>4</td>\n",
       "      <td>6</td>\n",
       "      <td>6</td>\n",
       "      <td>2024</td>\n",
       "      <td>202.969754</td>\n",
       "      <td>1.902402</td>\n",
       "      <td>42.0</td>\n",
       "      <td>45.0</td>\n",
       "      <td>0.913043</td>\n",
       "      <td>High flow</td>\n",
       "      <td>5</td>\n",
       "      <td>AMJ</td>\n",
       "    </tr>\n",
       "    <tr>\n",
       "      <th>534</th>\n",
       "      <td>2024-07-01</td>\n",
       "      <td>5</td>\n",
       "      <td>7</td>\n",
       "      <td>7</td>\n",
       "      <td>2024</td>\n",
       "      <td>142.205195</td>\n",
       "      <td>0.583609</td>\n",
       "      <td>39.0</td>\n",
       "      <td>45.0</td>\n",
       "      <td>0.847826</td>\n",
       "      <td>Above normal</td>\n",
       "      <td>4</td>\n",
       "      <td>MJJ</td>\n",
       "    </tr>\n",
       "  </tbody>\n",
       "</table>"
      ],
      "text/plain": [
       "<IPython.core.display.HTML object>"
      ]
     },
     "execution_count": 7,
     "metadata": {},
     "output_type": "execute_result"
    }
   ],
   "source": [
    "QUATERLY_STATUS = SOS.quarterly_status(DISCHARGE_THREE_MONTHS)\n",
    "HTML(QUATERLY_STATUS.tail(6).to_html())"
   ]
  },
  {
   "cell_type": "markdown",
   "metadata": {},
   "source": [
    "### Calculate the Accumulated Hydrological Status for 12-Months (Annualy)\n",
    "\n",
    "After testing the HydroSOS Package and sending the results to Dinagua Web Service, we calculate the accumulated status product"
   ]
  },
  {
   "cell_type": "code",
   "execution_count": null,
   "metadata": {},
   "outputs": [],
   "source": [
    "DISCHARGE_TWELVE_MONTHS = aggvar.calculate_accumulated(MONTHLY_DISCHARGE, 12)\n",
    "HTML(DISCHARGE_TWELVE_MONTHS.tail(6).to_html())"
   ]
  },
  {
   "cell_type": "code",
   "execution_count": null,
   "metadata": {},
   "outputs": [],
   "source": [
    "ANNUALY_STATUS = SOS.annualy_status(DISCHARGE_TWELVE_MONTHS)\n",
    "HTML(ANNUALY_STATUS.tail(6).to_html())"
   ]
  },
  {
   "cell_type": "markdown",
   "metadata": {},
   "source": [
    "## Test the HydroSOS Package using all the csv file from an input directory\n",
    "\n",
    "Now we are going to do the same process for all the csv file in the input directory"
   ]
  },
  {
   "cell_type": "code",
   "execution_count": null,
   "metadata": {},
   "outputs": [],
   "source": [
    "input_directory = '../data/'\n",
    "for f in os.listdir(input_directory):\n",
    "    if f.endswith('.csv'):\n",
    "        flowdata, stationid = aggvar.import_data(input_directory, filename = f)\n",
    "        MONTHLY_DISCHARGE = aggvar.calculate_monthly(flowdata)\n",
    "        MONTHLY_STATUS = SOS.monthly_status(MONTHLY_DISCHARGE)\n",
    "        SOS.export_csv(MONTHLY_STATUS, output_directory='../output_csv/01_month/',filename = stationid)\n",
    "        print(\"==================================================================\")"
   ]
  },
  {
   "cell_type": "markdown",
   "metadata": {},
   "source": [
    "Now, we'll create json files using the csv files from all the stations"
   ]
  },
  {
   "cell_type": "code",
   "execution_count": null,
   "metadata": {},
   "outputs": [],
   "source": [
    "SOS.csv_to_json('../output_csv/01_month','../output_json/01_month')"
   ]
  },
  {
   "cell_type": "markdown",
   "metadata": {},
   "source": [
    "## Send the results to Dinagua Web Service for publishing\n",
    "\n",
    "After creating the json file for the corresponding year-month, we will update the Web Service using the following process"
   ]
  },
  {
   "cell_type": "code",
   "execution_count": null,
   "metadata": {},
   "outputs": [],
   "source": [
    "# Ambiente produccion\n",
    "url_base = 'https://www.ambiente.gub.uy/dinaguaws/'\n",
    "# Username and password\n",
    "user_dinagua = {\"user\":\"saladesituacion\",\"password\":\"Rondeau1921\"}\n",
    "# Get the token from DINAGUA WS\n",
    "response_token = requests.post(url=url_base + \"gettoken\", json=user_dinagua, verify=False);\n",
    "response_token.close()\n",
    "# Extract token and assign it to a variable\n",
    "token = response_token.text\n",
    "# Add the token to a bearer authorization\n",
    "headers = {\"Authorization\" : \"Bearer \" + token}"
   ]
  },
  {
   "cell_type": "markdown",
   "metadata": {},
   "source": [
    "POST Method for creating the filter Id"
   ]
  },
  {
   "cell_type": "code",
   "execution_count": null,
   "metadata": {},
   "outputs": [],
   "source": [
    "# Locate the corresponding json file\n",
    "json_file = '../output_json/01_month/2024-06.json'\n",
    "# Define Parameters\n",
    "date_name = json_file.split('/')[-1].split('.')[0]\n",
    "cat_scale = 1\n",
    "ts = \"Estaciones\"\n",
    "\n",
    "# create the json dictonary\n",
    "dataFiltro = {\"fecha\": date_name,\"temporalidad\": cat_scale,\"serietemporal\": ts}\n",
    "\n",
    "# POST Save Filter\n",
    "post_filtro = requests.post(url=url_base + \"estadohidro/datoscat/guardarFiltro\", headers = headers, json=dataFiltro, verify=False)\n",
    "post_filtro.close()\n",
    "print(post_filtro.text)"
   ]
  },
  {
   "cell_type": "markdown",
   "metadata": {},
   "source": [
    "GET Method for extracting the FilterID"
   ]
  },
  {
   "cell_type": "code",
   "execution_count": null,
   "metadata": {},
   "outputs": [],
   "source": [
    "# Create the json dictonary\n",
    "params_filtros = {\"fecha\" : date_name, \"temporalidad\" : cat_scale, \"serietemporal\" : ts}\n",
    "# Send requests\n",
    "get_filtro_id = requests.get(url = url_base + \"estadohidro/filtros\",headers=headers, params=params_filtros, verify=False)\n",
    "get_filtro_id.close()\n",
    "# print id\n",
    "id = json.loads(get_filtro_id.content.decode('utf-8'))\n",
    "id = id[0][\"id\"]\n",
    "print(id)"
   ]
  },
  {
   "cell_type": "markdown",
   "metadata": {},
   "source": [
    "POST HydroSOS Status for the corresponding Month/Year"
   ]
  },
  {
   "cell_type": "code",
   "execution_count": null,
   "metadata": {},
   "outputs": [],
   "source": [
    "# Creating the Request Body\n",
    "datosCat = {\"filtrosId\": {id}}\n",
    "# importing the json file from the output directory\n",
    "json_body = open(json_file)\n",
    "json_body = json.load(json_body)\n",
    "# POST HydroSOS status \n",
    "post_estado = requests.post(url=url_base+\"estadohidro/datoscat/guardarDatosCat\",headers=headers,params=datosCat,json=json_body,verify=False)\n",
    "post_estado.close()\n",
    "print(post_estado.text)"
   ]
  },
  {
   "cell_type": "markdown",
   "metadata": {},
   "source": [
    "We are going to see if the hydrological status is correctly added in the service"
   ]
  },
  {
   "cell_type": "code",
   "execution_count": null,
   "metadata": {},
   "outputs": [],
   "source": [
    "params_status = {\"serietemporal\": ts, \"fecha\": date_name, \"temporalidad\": cat_scale}\n",
    "get_status = requests.get(url=url_base+\"estadohidro/datoscat\",headers=headers,params=params_status,verify=False)\n",
    "get_status.close()\n",
    "# Convert it to json and dataframe\n",
    "response_status = json.loads(get_status.content.decode('utf-8'))"
   ]
  }
 ],
 "metadata": {
  "kernelspec": {
   "display_name": "HydroSOS",
   "language": "python",
   "name": "python3"
  },
  "language_info": {
   "codemirror_mode": {
    "name": "ipython",
    "version": 3
   },
   "file_extension": ".py",
   "mimetype": "text/x-python",
   "name": "python",
   "nbconvert_exporter": "python",
   "pygments_lexer": "ipython3",
   "version": "3.10.8"
  }
 },
 "nbformat": 4,
 "nbformat_minor": 2
}
