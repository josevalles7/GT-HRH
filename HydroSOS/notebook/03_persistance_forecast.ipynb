{
 "cells": [
  {
   "attachments": {},
   "cell_type": "markdown",
   "metadata": {},
   "source": [
    "# Persistance Forecast\n",
    "\n",
    "#### Jose Valles (jose.valles.leon@gmail.com)"
   ]
  },
  {
   "cell_type": "code",
   "execution_count": 23,
   "metadata": {},
   "outputs": [],
   "source": [
    "# Importing the libraries\n",
    "import pandas as pd\n",
    "pd.options.mode.chained_assignment = None  # default='warn'\n",
    "import seaborn as sns\n",
    "import numpy as np\n",
    "import calendar\n",
    "import datetime\n",
    "import matplotlib.pyplot as plt\n",
    "plt.style.use('classic')\n",
    "%matplotlib inline\n",
    "\n",
    "from IPython.display import HTML\n",
    "\n",
    "sns.set()"
   ]
  },
  {
   "cell_type": "code",
   "execution_count": 24,
   "metadata": {},
   "outputs": [],
   "source": [
    "# Quantile Function Definitions\n",
    "def q1(x):\n",
    "    return x.quantile(0.28)\n",
    "\n",
    "def q2(x):\n",
    "    return x.median()\n",
    "\n",
    "def q3(x):\n",
    "    return x.quantile(0.72)"
   ]
  },
  {
   "attachments": {},
   "cell_type": "markdown",
   "metadata": {},
   "source": [
    "Import de daily discharge from a hydrological station located in Uruguay "
   ]
  },
  {
   "cell_type": "code",
   "execution_count": 25,
   "metadata": {},
   "outputs": [],
   "source": [
    "station_name = 'pasoroldan'\n",
    "DISCHARGE_DAILY = pd.read_csv(f'../data/{station_name}_caudales.csv',parse_dates=['Fecha'],index_col=\"Fecha\",dayfirst=True,na_values=\"NA\")"
   ]
  },
  {
   "attachments": {},
   "cell_type": "markdown",
   "metadata": {},
   "source": [
    "Identify the missing dates and change dataframe columns name. **Important** Change the end date parameter in the ``pd.date_range``"
   ]
  },
  {
   "cell_type": "code",
   "execution_count": 26,
   "metadata": {},
   "outputs": [
    {
     "data": {
      "text/html": [
       "<table border=\"1\" class=\"dataframe\">\n",
       "  <thead>\n",
       "    <tr style=\"text-align: right;\">\n",
       "      <th></th>\n",
       "      <th>discharge</th>\n",
       "    </tr>\n",
       "    <tr>\n",
       "      <th>date</th>\n",
       "      <th></th>\n",
       "    </tr>\n",
       "  </thead>\n",
       "  <tbody>\n",
       "    <tr>\n",
       "      <th>2023-05-26</th>\n",
       "      <td>0.241</td>\n",
       "    </tr>\n",
       "    <tr>\n",
       "      <th>2023-05-27</th>\n",
       "      <td>0.633</td>\n",
       "    </tr>\n",
       "    <tr>\n",
       "      <th>2023-05-28</th>\n",
       "      <td>1.216</td>\n",
       "    </tr>\n",
       "    <tr>\n",
       "      <th>2023-05-29</th>\n",
       "      <td>0.697</td>\n",
       "    </tr>\n",
       "    <tr>\n",
       "      <th>2023-05-30</th>\n",
       "      <td>0.506</td>\n",
       "    </tr>\n",
       "    <tr>\n",
       "      <th>2023-05-31</th>\n",
       "      <td>0.413</td>\n",
       "    </tr>\n",
       "  </tbody>\n",
       "</table>"
      ],
      "text/plain": [
       "<IPython.core.display.HTML object>"
      ]
     },
     "execution_count": 26,
     "metadata": {},
     "output_type": "execute_result"
    }
   ],
   "source": [
    "# Identify the missing data from a date range (1980 to 2023)\n",
    "DISCHARGE_DAILY_date_missing = pd.date_range(start = DISCHARGE_DAILY.index[0].strftime('%Y-%m-%d'), end = DISCHARGE_DAILY.index[-1].strftime('%Y-%m-%d'),freq='D')\n",
    "# Re-index the dataframe based on the missind date variable\n",
    "DISCHARGE_DAILY = DISCHARGE_DAILY.reindex(DISCHARGE_DAILY_date_missing,fill_value=None)\n",
    "# Set index Fecha\n",
    "DISCHARGE_DAILY.index.name = 'date' \n",
    "# Change columns names\n",
    "DISCHARGE_DAILY.columns = ['station','discharge']\n",
    "# Remove station code column\n",
    "DISCHARGE_DAILY = DISCHARGE_DAILY.drop(columns='station')\n",
    "# Print the last 6 values\n",
    "HTML(DISCHARGE_DAILY.tail(6).to_html())"
   ]
  },
  {
   "attachments": {},
   "cell_type": "markdown",
   "metadata": {},
   "source": [
    "### Calculate monthly mean from daily data\n",
    "\n",
    "First, we define a percentage of missing value. For this exercise, we use a 50% of missing data in the given month"
   ]
  },
  {
   "cell_type": "code",
   "execution_count": 27,
   "metadata": {},
   "outputs": [],
   "source": [
    "# Percentage of missing data\n",
    "max_pct_missing = 50"
   ]
  },
  {
   "cell_type": "code",
   "execution_count": 28,
   "metadata": {},
   "outputs": [],
   "source": [
    "# group the Dataframe in a monthly time scale\n",
    "GROUPER_DISCHARGE_MONTHLY = DISCHARGE_DAILY.groupby(pd.Grouper(freq='1MS'))\n",
    "\n",
    "# this function allows to calculate the percentange of missing values and label the dataframe to \"missing\"\n",
    "NUMBER_MISSING = GROUPER_DISCHARGE_MONTHLY.apply(lambda x: pd.isnull(x).sum()*100/len(x)).unstack(1)\n",
    "NUMBER_MISSING = NUMBER_MISSING.to_frame()\n",
    "\n",
    "# change the column name to \"missing\"\n",
    "NUMBER_MISSING.columns = ['number_missing'] \n",
    "\n",
    "# this function allows to calculate the percentange of missing values and label the dataframe to \"missing\"\n",
    "BOOL_MISSING = GROUPER_DISCHARGE_MONTHLY.apply(lambda x: pd.isnull(x).sum()*100/len(x)).unstack(1) < max_pct_missing\n",
    "BOOL_MISSING = BOOL_MISSING.to_frame() # Convert to DataFrame\n",
    "BOOL_MISSING.columns = ['missing'] # change the column name to \"missing\"\n",
    "\n",
    "# BOOL_MISSING[~BOOL_MISSING['missing']] # print the dates that does not fulfill the criterion of null data in for each month\n",
    "# BOOL_MISSING.to_clipboard()\n",
    "\n",
    "# NUMBER_MISSING.to_clipboard() # Uncomment if you want to visualize all the result in a CSV"
   ]
  },
  {
   "attachments": {},
   "cell_type": "markdown",
   "metadata": {},
   "source": [
    "Next, we identify the months which contains lower that the max_pct_missing value and the monthly flow is only calculated if 50% o more of recorded value in a given month"
   ]
  },
  {
   "cell_type": "code",
   "execution_count": 29,
   "metadata": {},
   "outputs": [
    {
     "data": {
      "text/html": [
       "<table border=\"1\" class=\"dataframe\">\n",
       "  <thead>\n",
       "    <tr style=\"text-align: right;\">\n",
       "      <th>discharge</th>\n",
       "      <th>year</th>\n",
       "      <th>month</th>\n",
       "      <th>Q_to_log</th>\n",
       "    </tr>\n",
       "  </thead>\n",
       "  <tbody>\n",
       "    <tr>\n",
       "      <td>0.890214</td>\n",
       "      <td>2022</td>\n",
       "      <td>12</td>\n",
       "      <td>-0.116293</td>\n",
       "    </tr>\n",
       "    <tr>\n",
       "      <td>0.225968</td>\n",
       "      <td>2023</td>\n",
       "      <td>1</td>\n",
       "      <td>-1.487363</td>\n",
       "    </tr>\n",
       "    <tr>\n",
       "      <td>0.121429</td>\n",
       "      <td>2023</td>\n",
       "      <td>2</td>\n",
       "      <td>-2.108429</td>\n",
       "    </tr>\n",
       "    <tr>\n",
       "      <td>0.288667</td>\n",
       "      <td>2023</td>\n",
       "      <td>3</td>\n",
       "      <td>-1.242483</td>\n",
       "    </tr>\n",
       "    <tr>\n",
       "      <td>0.250767</td>\n",
       "      <td>2023</td>\n",
       "      <td>4</td>\n",
       "      <td>-1.383232</td>\n",
       "    </tr>\n",
       "    <tr>\n",
       "      <td>0.277065</td>\n",
       "      <td>2023</td>\n",
       "      <td>5</td>\n",
       "      <td>-1.283505</td>\n",
       "    </tr>\n",
       "  </tbody>\n",
       "</table>"
      ],
      "text/plain": [
       "<IPython.core.display.HTML object>"
      ]
     },
     "execution_count": 29,
     "metadata": {},
     "output_type": "execute_result"
    }
   ],
   "source": [
    "# from daily to monthly\n",
    "DISCHARGE_MONTHLY = DISCHARGE_DAILY.resample('M').apply(lambda x: x.mean() if x.isnull().sum()*100/len(x) < max_pct_missing else np.nan)\n",
    "# from monthly to 3 months\n",
    "DISCHARGE_THREE_MONTHS = DISCHARGE_MONTHLY.rolling(3).apply(lambda x: x.mean() if x.isnull().sum()*100/len(x) < max_pct_missing else np.nan)\n",
    "# Create columns\n",
    "DISCHARGE_MONTHLY['year'] = DISCHARGE_MONTHLY.index.year\n",
    "DISCHARGE_MONTHLY['month'] = DISCHARGE_MONTHLY.index.month\n",
    "## create column for day, month, year in the daily discharge ()\n",
    "DISCHARGE_DAILY['year'] = DISCHARGE_DAILY.index.year\n",
    "DISCHARGE_DAILY['month'] = DISCHARGE_DAILY.index.month\n",
    "DISCHARGE_DAILY['monthday'] = DISCHARGE_DAILY.index.day_of_year\n",
    "# Transform the date to Qlog\n",
    "DISCHARGE_MONTHLY['Q_to_log'] = np.log(DISCHARGE_MONTHLY['discharge'])\n",
    "## print the first results\n",
    "HTML(DISCHARGE_MONTHLY.tail(6).to_html(index=False))\n",
    "# DISCHARGE_MONTHLY.to_clipboard() # Uncomment if you want to visualize all the time serie"
   ]
  },
  {
   "attachments": {},
   "cell_type": "markdown",
   "metadata": {},
   "source": [
    "### Select the period of record to estimate the mean and std\n",
    "\n",
    "For this section, we will use a period of reference or the dataset of year overdue. We are in 2023 so the period of record is 1980-2022"
   ]
  },
  {
   "cell_type": "code",
   "execution_count": 30,
   "metadata": {},
   "outputs": [],
   "source": [
    "DISCHARGE_SELECTION = DISCHARGE_MONTHLY[(DISCHARGE_MONTHLY['year'] >= 1980) & (DISCHARGE_MONTHLY['year'] <= 2022)]"
   ]
  },
  {
   "attachments": {},
   "cell_type": "markdown",
   "metadata": {},
   "source": [
    "Calculate the average dischare for each month in the period of record"
   ]
  },
  {
   "cell_type": "code",
   "execution_count": 31,
   "metadata": {},
   "outputs": [
    {
     "data": {
      "text/html": [
       "<table border=\"1\" class=\"dataframe\">\n",
       "  <thead>\n",
       "    <tr style=\"text-align: right;\">\n",
       "      <th></th>\n",
       "      <th>mean</th>\n",
       "      <th>std</th>\n",
       "      <th>q1</th>\n",
       "      <th>q3</th>\n",
       "    </tr>\n",
       "    <tr>\n",
       "      <th>date</th>\n",
       "      <th></th>\n",
       "      <th></th>\n",
       "      <th></th>\n",
       "      <th></th>\n",
       "    </tr>\n",
       "  </thead>\n",
       "  <tbody>\n",
       "    <tr>\n",
       "      <th>1</th>\n",
       "      <td>0.777292</td>\n",
       "      <td>1.472519</td>\n",
       "      <td>-0.228437</td>\n",
       "      <td>1.927116</td>\n",
       "    </tr>\n",
       "    <tr>\n",
       "      <th>2</th>\n",
       "      <td>1.219913</td>\n",
       "      <td>1.501590</td>\n",
       "      <td>0.380780</td>\n",
       "      <td>1.320031</td>\n",
       "    </tr>\n",
       "    <tr>\n",
       "      <th>3</th>\n",
       "      <td>1.231474</td>\n",
       "      <td>1.497555</td>\n",
       "      <td>0.279153</td>\n",
       "      <td>1.993280</td>\n",
       "    </tr>\n",
       "    <tr>\n",
       "      <th>4</th>\n",
       "      <td>1.512033</td>\n",
       "      <td>1.338951</td>\n",
       "      <td>0.569734</td>\n",
       "      <td>2.132831</td>\n",
       "    </tr>\n",
       "    <tr>\n",
       "      <th>5</th>\n",
       "      <td>2.026964</td>\n",
       "      <td>1.238741</td>\n",
       "      <td>1.118004</td>\n",
       "      <td>2.896640</td>\n",
       "    </tr>\n",
       "    <tr>\n",
       "      <th>6</th>\n",
       "      <td>2.777806</td>\n",
       "      <td>1.260948</td>\n",
       "      <td>2.357958</td>\n",
       "      <td>3.489775</td>\n",
       "    </tr>\n",
       "    <tr>\n",
       "      <th>7</th>\n",
       "      <td>2.981084</td>\n",
       "      <td>1.025880</td>\n",
       "      <td>2.927895</td>\n",
       "      <td>3.676273</td>\n",
       "    </tr>\n",
       "    <tr>\n",
       "      <th>8</th>\n",
       "      <td>2.926440</td>\n",
       "      <td>0.863844</td>\n",
       "      <td>2.546942</td>\n",
       "      <td>3.329714</td>\n",
       "    </tr>\n",
       "    <tr>\n",
       "      <th>9</th>\n",
       "      <td>2.806328</td>\n",
       "      <td>0.959207</td>\n",
       "      <td>2.070817</td>\n",
       "      <td>3.428722</td>\n",
       "    </tr>\n",
       "    <tr>\n",
       "      <th>10</th>\n",
       "      <td>2.262030</td>\n",
       "      <td>1.378600</td>\n",
       "      <td>1.352546</td>\n",
       "      <td>3.119571</td>\n",
       "    </tr>\n",
       "    <tr>\n",
       "      <th>11</th>\n",
       "      <td>1.912038</td>\n",
       "      <td>1.216884</td>\n",
       "      <td>1.182599</td>\n",
       "      <td>2.706025</td>\n",
       "    </tr>\n",
       "    <tr>\n",
       "      <th>12</th>\n",
       "      <td>1.168487</td>\n",
       "      <td>1.343115</td>\n",
       "      <td>0.273918</td>\n",
       "      <td>1.696319</td>\n",
       "    </tr>\n",
       "  </tbody>\n",
       "</table>"
      ],
      "text/plain": [
       "<IPython.core.display.HTML object>"
      ]
     },
     "execution_count": 31,
     "metadata": {},
     "output_type": "execute_result"
    }
   ],
   "source": [
    "DISCHARGE_MONTHLY_STATS = DISCHARGE_SELECTION.Q_to_log.groupby(DISCHARGE_SELECTION.index.month).agg([np.mean, np.std, q1, q3])\n",
    "Q_MONTHLY_STATS = DISCHARGE_SELECTION.discharge.groupby(DISCHARGE_SELECTION.index.month).agg([np.mean, np.std, q1, q3])\n",
    "# Display results\n",
    "HTML(DISCHARGE_MONTHLY_STATS.to_html())"
   ]
  },
  {
   "cell_type": "code",
   "execution_count": 32,
   "metadata": {},
   "outputs": [],
   "source": [
    "DISCHARGE_MONTHLY['anomaly'] = np.nan\n",
    "for i in range(len(DISCHARGE_MONTHLY)):\n",
    "    # Extract the current month \n",
    "    m = DISCHARGE_MONTHLY.month[i]\n",
    "    # Extract the current year\n",
    "    y = DISCHARGE_MONTHLY.year[i]\n",
    "    DISCHARGE_MONTHLY.loc[DISCHARGE_MONTHLY.eval('month==@m & year==@y'),'anomaly'] = (DISCHARGE_MONTHLY['Q_to_log'][i] - DISCHARGE_MONTHLY_STATS.query('index == @m')[\"mean\"].item()) / DISCHARGE_MONTHLY_STATS.query('index == @m')[\"std\"].item()\n",
    "\n",
    "DISCHARGE_MONTHLY = DISCHARGE_MONTHLY[['year','month','discharge','Q_to_log','anomaly']]"
   ]
  },
  {
   "cell_type": "code",
   "execution_count": 33,
   "metadata": {},
   "outputs": [
    {
     "data": {
      "text/html": [
       "<table border=\"1\" class=\"dataframe\">\n",
       "  <thead>\n",
       "    <tr style=\"text-align: right;\">\n",
       "      <th>year</th>\n",
       "      <th>month</th>\n",
       "      <th>discharge</th>\n",
       "      <th>Q_to_log</th>\n",
       "      <th>anomaly</th>\n",
       "    </tr>\n",
       "  </thead>\n",
       "  <tbody>\n",
       "    <tr>\n",
       "      <td>2022</td>\n",
       "      <td>12</td>\n",
       "      <td>0.890214</td>\n",
       "      <td>-0.116293</td>\n",
       "      <td>-0.956568</td>\n",
       "    </tr>\n",
       "    <tr>\n",
       "      <td>2023</td>\n",
       "      <td>1</td>\n",
       "      <td>0.225968</td>\n",
       "      <td>-1.487363</td>\n",
       "      <td>-1.537946</td>\n",
       "    </tr>\n",
       "    <tr>\n",
       "      <td>2023</td>\n",
       "      <td>2</td>\n",
       "      <td>0.121429</td>\n",
       "      <td>-2.108429</td>\n",
       "      <td>-2.216545</td>\n",
       "    </tr>\n",
       "    <tr>\n",
       "      <td>2023</td>\n",
       "      <td>3</td>\n",
       "      <td>0.288667</td>\n",
       "      <td>-1.242483</td>\n",
       "      <td>-1.651998</td>\n",
       "    </tr>\n",
       "    <tr>\n",
       "      <td>2023</td>\n",
       "      <td>4</td>\n",
       "      <td>0.250767</td>\n",
       "      <td>-1.383232</td>\n",
       "      <td>-2.162339</td>\n",
       "    </tr>\n",
       "    <tr>\n",
       "      <td>2023</td>\n",
       "      <td>5</td>\n",
       "      <td>0.277065</td>\n",
       "      <td>-1.283505</td>\n",
       "      <td>-2.672447</td>\n",
       "    </tr>\n",
       "  </tbody>\n",
       "</table>"
      ],
      "text/plain": [
       "<IPython.core.display.HTML object>"
      ]
     },
     "execution_count": 33,
     "metadata": {},
     "output_type": "execute_result"
    }
   ],
   "source": [
    "HTML(DISCHARGE_MONTHLY.tail(6).to_html(index=False))"
   ]
  },
  {
   "attachments": {},
   "cell_type": "markdown",
   "metadata": {},
   "source": [
    "### Make a Persistance Forecast"
   ]
  },
  {
   "attachments": {},
   "cell_type": "markdown",
   "metadata": {},
   "source": [
    "We create a function called add_month that add the number of months based on an input date."
   ]
  },
  {
   "cell_type": "code",
   "execution_count": 34,
   "metadata": {},
   "outputs": [],
   "source": [
    "def add_months(sourcedate, months):\n",
    "    month = sourcedate.month - 1 + months\n",
    "    year = sourcedate.year + month // 12\n",
    "    month = month % 12 + 1\n",
    "    day = min(sourcedate.day, calendar.monthrange(year,month)[1])\n",
    "    date_result = datetime.date(year, month, day)\n",
    "    date_result = date_result.strftime('%Y-%m-%d %H:%M:%S')\n",
    "    date_result = datetime.datetime.strptime(date_result,'%Y-%m-%d %H:%M:%S')\n",
    "    return date_result"
   ]
  },
  {
   "attachments": {},
   "cell_type": "markdown",
   "metadata": {},
   "source": [
    "We extract the month overdue based on the current date"
   ]
  },
  {
   "cell_type": "code",
   "execution_count": 35,
   "metadata": {},
   "outputs": [
    {
     "name": "stdout",
     "output_type": "stream",
     "text": [
      "2023-05-31\n"
     ]
    }
   ],
   "source": [
    "today = datetime.date.today()\n",
    "first = today.replace(day=1)\n",
    "last_month = first - datetime.timedelta(days=1)\n",
    "print(last_month.strftime('%Y-%m-%d'))"
   ]
  },
  {
   "attachments": {},
   "cell_type": "markdown",
   "metadata": {},
   "source": [
    "Make a Forecast and create a new dataframe for forecasting purposes "
   ]
  },
  {
   "cell_type": "code",
   "execution_count": 36,
   "metadata": {},
   "outputs": [],
   "source": [
    "# Make a Forecast using the persistance of the discharge anomaly\n",
    "PERSISTANCE_FCST = DISCHARGE_MONTHLY.query(\"month == @last_month.month & year == @last_month.year\")['anomaly'].item()\n",
    "# For the forecast, we will create a new dataframe \n",
    "DISCHARGE_MONTHLY_FCST = DISCHARGE_MONTHLY"
   ]
  },
  {
   "cell_type": "code",
   "execution_count": 37,
   "metadata": {},
   "outputs": [],
   "source": [
    "# Define the forecast lead-times\n",
    "arr = np.array([1,2,3,4,5,6])\n",
    "for x in arr:\n",
    "    # convert to datetime the forecast lead-time\n",
    "    forecast_month = add_months(last_month,x)\n",
    "    # revert anomaly transformation\n",
    "    q2log = (PERSISTANCE_FCST * DISCHARGE_MONTHLY_STATS.query('index == @forecast_month.month')[\"std\"].item()) + DISCHARGE_MONTHLY_STATS.query('index == @forecast_month.month')[\"mean\"].item()\n",
    "    # Revert forecast to obtain flow units\n",
    "    exp_log = np.exp(q2log)\n",
    "    # put it in the forecast dataframe\n",
    "    DISCHARGE_MONTHLY_FCST.loc[forecast_month] = [forecast_month.year,forecast_month.month, exp_log, q2log, PERSISTANCE_FCST]\n",
    "\n",
    "# DISCHARGE_MONTHLY_FCST.index = DISCHARGE_MONTHLY_FCST.index.map(lambda t: t.replace(day=1))"
   ]
  },
  {
   "cell_type": "code",
   "execution_count": 38,
   "metadata": {},
   "outputs": [
    {
     "data": {
      "text/html": [
       "<table border=\"1\" class=\"dataframe\">\n",
       "  <thead>\n",
       "    <tr style=\"text-align: right;\">\n",
       "      <th></th>\n",
       "      <th>year</th>\n",
       "      <th>month</th>\n",
       "      <th>discharge</th>\n",
       "      <th>Q_to_log</th>\n",
       "      <th>anomaly</th>\n",
       "    </tr>\n",
       "    <tr>\n",
       "      <th>date</th>\n",
       "      <th></th>\n",
       "      <th></th>\n",
       "      <th></th>\n",
       "      <th></th>\n",
       "      <th></th>\n",
       "    </tr>\n",
       "  </thead>\n",
       "  <tbody>\n",
       "    <tr>\n",
       "      <th>2023-04-30</th>\n",
       "      <td>2023.0</td>\n",
       "      <td>4.0</td>\n",
       "      <td>0.250767</td>\n",
       "      <td>-1.383232</td>\n",
       "      <td>-2.162339</td>\n",
       "    </tr>\n",
       "    <tr>\n",
       "      <th>2023-05-31</th>\n",
       "      <td>2023.0</td>\n",
       "      <td>5.0</td>\n",
       "      <td>0.277065</td>\n",
       "      <td>-1.283505</td>\n",
       "      <td>-2.672447</td>\n",
       "    </tr>\n",
       "    <tr>\n",
       "      <th>2023-06-30</th>\n",
       "      <td>2023.0</td>\n",
       "      <td>6.0</td>\n",
       "      <td>0.553214</td>\n",
       "      <td>-0.592010</td>\n",
       "      <td>-2.672447</td>\n",
       "    </tr>\n",
       "    <tr>\n",
       "      <th>2023-07-31</th>\n",
       "      <td>2023.0</td>\n",
       "      <td>7.0</td>\n",
       "      <td>1.270581</td>\n",
       "      <td>0.239474</td>\n",
       "      <td>-2.672447</td>\n",
       "    </tr>\n",
       "    <tr>\n",
       "      <th>2023-08-31</th>\n",
       "      <td>2023.0</td>\n",
       "      <td>8.0</td>\n",
       "      <td>1.854960</td>\n",
       "      <td>0.617863</td>\n",
       "      <td>-2.672447</td>\n",
       "    </tr>\n",
       "    <tr>\n",
       "      <th>2023-09-30</th>\n",
       "      <td>2023.0</td>\n",
       "      <td>9.0</td>\n",
       "      <td>1.274938</td>\n",
       "      <td>0.242898</td>\n",
       "      <td>-2.672447</td>\n",
       "    </tr>\n",
       "    <tr>\n",
       "      <th>2023-10-31</th>\n",
       "      <td>2023.0</td>\n",
       "      <td>10.0</td>\n",
       "      <td>0.241181</td>\n",
       "      <td>-1.422206</td>\n",
       "      <td>-2.672447</td>\n",
       "    </tr>\n",
       "    <tr>\n",
       "      <th>2023-11-30</th>\n",
       "      <td>2023.0</td>\n",
       "      <td>11.0</td>\n",
       "      <td>0.261841</td>\n",
       "      <td>-1.340019</td>\n",
       "      <td>-2.672447</td>\n",
       "    </tr>\n",
       "  </tbody>\n",
       "</table>"
      ],
      "text/plain": [
       "<IPython.core.display.HTML object>"
      ]
     },
     "execution_count": 38,
     "metadata": {},
     "output_type": "execute_result"
    }
   ],
   "source": [
    "HTML(DISCHARGE_MONTHLY_FCST.tail(8).to_html(index=True))"
   ]
  },
  {
   "cell_type": "code",
   "execution_count": 39,
   "metadata": {},
   "outputs": [],
   "source": [
    "ndata = DISCHARGE_MONTHLY_FCST.iloc[(DISCHARGE_MONTHLY_FCST.index >= '2022-11-01') & (DISCHARGE_MONTHLY_FCST.index <= '2023-12-28')]"
   ]
  },
  {
   "cell_type": "code",
   "execution_count": 40,
   "metadata": {},
   "outputs": [],
   "source": [
    "ndata.index = ndata.index.map(lambda t: t.replace(day=1))"
   ]
  },
  {
   "cell_type": "code",
   "execution_count": 41,
   "metadata": {},
   "outputs": [],
   "source": [
    "# create empty columns in the dataframe\n",
    "ndata['28th_percentile'] = np.nan\n",
    "ndata['72th_percentile'] = np.nan\n",
    "\n",
    "for i in range(len(ndata)):\n",
    "    # Extract the current month \n",
    "    m = ndata.month[i]\n",
    "    y = ndata.year[i]\n",
    "    ndata.loc[ndata.eval('month==@m & year==@y'),'28th_percentile']  = Q_MONTHLY_STATS.query('index==@m')['q1'].item()\n",
    "    ndata.loc[ndata.eval('month==@m & year==@y'),'72th_percentile']  = Q_MONTHLY_STATS.query('index==@m')['q3'].item()"
   ]
  },
  {
   "cell_type": "code",
   "execution_count": 42,
   "metadata": {},
   "outputs": [
    {
     "data": {
      "image/png": "[encoded data removed]",
      "text/plain": [
       "<Figure size 1600x800 with 1 Axes>"
      ]
     },
     "metadata": {},
     "output_type": "display_data"
    }
   ],
   "source": [
    "import matplotlib.dates as mdates\n",
    "\n",
    "y1 = ndata.iloc[ndata.index <= last_month.replace(day=1).strftime('%Y-%m-%d')]\n",
    "y2 = ndata.iloc[ndata.index >= last_month.replace(day=1).strftime('%Y-%m-%d')]\n",
    "\n",
    "fig1, ax1 = plt.subplots(figsize=(20, 10))\n",
    "ax1.plot(y1.index,y1['discharge'],linestyle = '-', color = 'black',linewidth=3, marker='o', mfc='white', mec='k')\n",
    "ax1.plot(y2.index,y2['discharge'],linestyle = '--', color = 'blue', linewidth=3, marker='o', mfc='white', mec='k')\n",
    "ax1.set_xlabel('Date');\n",
    "ax1.set_ylabel('Discharge (m$^3$/s)');\n",
    "# ax1.set_ylim([0,60])\n",
    "ax1.axvline(x = last_month.replace(day=1), color = 'r',label = 'now', linestyle=':', linewidth=2, mfc='white', mec='k');\n",
    "\n",
    "ax1.fill_between(ndata.index, ndata['28th_percentile'], ndata['72th_percentile'], color='grey', alpha=0.3,label=\"Inferior a lo normal\")\n",
    "\n",
    "ax1.xaxis.set_major_locator(mdates.MonthLocator(interval=1))   #to get a tick every 1 month\n",
    "ax1.xaxis.set_major_formatter(mdates.DateFormatter('%b-%Y'))   #optional formatting \n",
    "plt.xticks(rotation=0);"
   ]
  },
  {
   "cell_type": "code",
   "execution_count": 43,
   "metadata": {},
   "outputs": [
    {
     "data": {
      "image/png": "[encoded data removed]",
      "text/plain": [
       "<Figure size 1600x800 with 1 Axes>"
      ]
     },
     "metadata": {},
     "output_type": "display_data"
    }
   ],
   "source": [
    "fig3, ax3 = plt.subplots(figsize=(20, 10))\n",
    "\n",
    "ax3.axvline(x = last_month.replace(day=1), color = 'r',label = 'now', linestyle='--', linewidth=2, mfc='white', mec='k');\n",
    "ax3.set_xlabel('Date');\n",
    "ax3.set_ylabel('Anomaly (--)');\n",
    "\n",
    "ax3.plot(ndata.index, ndata['anomaly'],marker='o', color='blue', linewidth=4, alpha=0.7,mfc='white', mec='k')\n",
    "\n",
    "# ax1.set_ylim([0,20]);\n",
    "ax3.xaxis.set_major_locator(mdates.MonthLocator(interval=1))   #to get a tick every 1 month\n",
    "ax3.xaxis.set_major_formatter(mdates.DateFormatter('%b-%Y'))   #optional formatting \n",
    "plt.xticks(rotation=0);"
   ]
  }
 ],
 "metadata": {
  "kernelspec": {
   "display_name": "HydroSOS",
   "language": "python",
   "name": "python3"
  },
  "language_info": {
   "codemirror_mode": {
    "name": "ipython",
    "version": 3
   },
   "file_extension": ".py",
   "mimetype": "text/x-python",
   "name": "python",
   "nbconvert_exporter": "python",
   "pygments_lexer": "ipython3",
   "version": "3.10.8"
  },
  "orig_nbformat": 4,
  "vscode": {
   "interpreter": {
    "hash": "343cc83dd4e63073a4466128785b16474a035b45ab439dddf4427cb6dc22ad0d"
   }
  }
 },
 "nbformat": 4,
 "nbformat_minor": 2
}
