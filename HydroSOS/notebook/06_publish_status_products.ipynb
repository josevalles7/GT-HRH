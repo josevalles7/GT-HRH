{
 "cells": [
  {
   "cell_type": "markdown",
   "metadata": {},
   "source": [
    "# HydroSOS Publish Status Products\n",
    "#### Jose Valles (jose.valles.leon@gmail.com)"
   ]
  },
  {
   "cell_type": "code",
   "execution_count": 1,
   "metadata": {},
   "outputs": [],
   "source": [
    "import os\n",
    "import requests\n",
    "import json \n",
    "\n",
    "# This code line allows to remove warning produce by verify = False\n",
    "from requests.packages.urllib3.exceptions import InsecureRequestWarning\n",
    "requests.packages.urllib3.disable_warnings(InsecureRequestWarning)"
   ]
  },
  {
   "cell_type": "markdown",
   "metadata": {},
   "source": [
    "## Send the results to Dinagua Web Service for publishing\n",
    "\n",
    "After creating the json file for the corresponding year-month, we will update the Web Service using the following process\n",
    "\n",
    "First, we are going to obtain the token"
   ]
  },
  {
   "cell_type": "code",
   "execution_count": 3,
   "metadata": {},
   "outputs": [],
   "source": [
    "# Ambiente produccion\n",
    "url_base = 'https://www.ambiente.gub.uy/dinaguaws/'\n",
    "# Username and password\n",
    "user_dinagua = {\"user\":\"FEWS-Uruguay\",\"password\":\"4MEzOeKFgp0pj9lATSIF\"}\n",
    "# Get the token from DINAGUA WS\n",
    "response_token = requests.post(url=url_base + \"gettoken\", json=user_dinagua, verify=False);\n",
    "response_token.close()\n",
    "# Extract token and assign it to a variable\n",
    "token = response_token.text\n",
    "# Add the token to a bearer authorization\n",
    "headers = {\"Authorization\" : \"Bearer \" + token}"
   ]
  },
  {
   "cell_type": "markdown",
   "metadata": {},
   "source": [
    "Define the parameters for publishing the status results"
   ]
  },
  {
   "cell_type": "code",
   "execution_count": 103,
   "metadata": {},
   "outputs": [],
   "source": [
    "# Locate the corresponding json file\n",
    "json_file = '../waterbalance/output_json/01_month/2024-04.json'\n",
    "date_name = json_file.split('/')[-1].split('.')[0]\n",
    "# scale: 1, 3, 12\n",
    "cat_scale = 1\n",
    "# ts: Estaciones or Modelos\n",
    "ts = \"Modelos\""
   ]
  },
  {
   "cell_type": "markdown",
   "metadata": {},
   "source": [
    "POST Method for creating the filter Id"
   ]
  },
  {
   "cell_type": "code",
   "execution_count": 104,
   "metadata": {},
   "outputs": [
    {
     "name": "stdout",
     "output_type": "stream",
     "text": [
      "Filtro guardado con éxito\n"
     ]
    }
   ],
   "source": [
    "# create the json dictonary\n",
    "dataFiltro = {\"fecha\": date_name,\"temporalidad\": cat_scale,\"serietemporal\": ts}\n",
    "\n",
    "# POST Save Filter\n",
    "post_filtro = requests.post(url=url_base + \"estadohidro/datoscat/guardarFiltro\", headers = headers, json=dataFiltro, verify=False)\n",
    "post_filtro.close()\n",
    "print(post_filtro.text)"
   ]
  },
  {
   "cell_type": "markdown",
   "metadata": {},
   "source": [
    "GET Method for extracting the FilterID"
   ]
  },
  {
   "cell_type": "code",
   "execution_count": 105,
   "metadata": {},
   "outputs": [
    {
     "name": "stdout",
     "output_type": "stream",
     "text": [
      "26\n"
     ]
    }
   ],
   "source": [
    "# Create the json dictonary\n",
    "params_filtros = {\"fecha\" : date_name, \"temporalidad\" : cat_scale, \"serietemporal\" : ts}\n",
    "# Send requests\n",
    "get_filtro_id = requests.get(url = url_base + \"estadohidro/filtros\",headers=headers, params=params_filtros, verify=False)\n",
    "get_filtro_id.close()\n",
    "# print id\n",
    "id = json.loads(get_filtro_id.content.decode('utf-8'))\n",
    "id = id[0][\"id\"]\n",
    "print(id)"
   ]
  },
  {
   "cell_type": "markdown",
   "metadata": {},
   "source": [
    "POST HydroSOS Status for the corresponding Month/Year"
   ]
  },
  {
   "cell_type": "code",
   "execution_count": 106,
   "metadata": {},
   "outputs": [
    {
     "name": "stdout",
     "output_type": "stream",
     "text": [
      "DatosCat guardado con éxito\n"
     ]
    }
   ],
   "source": [
    "# Creating the Request Body\n",
    "datosCat = {\"filtrosId\": {id}}\n",
    "# importing the json file from the output directory\n",
    "json_body = open(json_file)\n",
    "json_body = json.load(json_body)\n",
    "# POST HydroSOS status \n",
    "post_estado = requests.post(url=url_base+\"estadohidro/datoscat/guardarDatosCat\",headers=headers,params=datosCat,json=json_body,verify=False)\n",
    "post_estado.close()\n",
    "print(post_estado.text)"
   ]
  },
  {
   "cell_type": "markdown",
   "metadata": {},
   "source": [
    "We are going to see if the hydrological status is correctly added in the service"
   ]
  },
  {
   "cell_type": "code",
   "execution_count": 107,
   "metadata": {},
   "outputs": [
    {
     "data": {
      "text/plain": [
       "[{'id': 671, 'category': 5, 'stationID': '22', 'filtros_id': 26},\n",
       " {'id': 672, 'category': 5, 'stationID': '57', 'filtros_id': 26},\n",
       " {'id': 673, 'category': 4, 'stationID': '41', 'filtros_id': 26},\n",
       " {'id': 674, 'category': 5, 'stationID': '53', 'filtros_id': 26},\n",
       " {'id': 675, 'category': 5, 'stationID': '18', 'filtros_id': 26},\n",
       " {'id': 676, 'category': 5, 'stationID': '29', 'filtros_id': 26},\n",
       " {'id': 677, 'category': 4, 'stationID': '40', 'filtros_id': 26},\n",
       " {'id': 678, 'category': 4, 'stationID': '43', 'filtros_id': 26},\n",
       " {'id': 679, 'category': 5, 'stationID': '67', 'filtros_id': 26},\n",
       " {'id': 680, 'category': 5, 'stationID': '55', 'filtros_id': 26},\n",
       " {'id': 681, 'category': 4, 'stationID': '45', 'filtros_id': 26},\n",
       " {'id': 682, 'category': 5, 'stationID': '60', 'filtros_id': 26},\n",
       " {'id': 683, 'category': 4, 'stationID': '50', 'filtros_id': 26},\n",
       " {'id': 684, 'category': 4, 'stationID': '33', 'filtros_id': 26},\n",
       " {'id': 685, 'category': 5, 'stationID': '27', 'filtros_id': 26},\n",
       " {'id': 686, 'category': 5, 'stationID': '28', 'filtros_id': 26},\n",
       " {'id': 687, 'category': 5, 'stationID': '30', 'filtros_id': 26},\n",
       " {'id': 688, 'category': 5, 'stationID': '10', 'filtros_id': 26},\n",
       " {'id': 689, 'category': 4, 'stationID': '32', 'filtros_id': 26},\n",
       " {'id': 690, 'category': 5, 'stationID': '58', 'filtros_id': 26},\n",
       " {'id': 691, 'category': 5, 'stationID': '19', 'filtros_id': 26},\n",
       " {'id': 692, 'category': 5, 'stationID': '21', 'filtros_id': 26},\n",
       " {'id': 693, 'category': 5, 'stationID': '26', 'filtros_id': 26},\n",
       " {'id': 694, 'category': 4, 'stationID': '14', 'filtros_id': 26},\n",
       " {'id': 695, 'category': 4, 'stationID': '11', 'filtros_id': 26},\n",
       " {'id': 696, 'category': 5, 'stationID': '61', 'filtros_id': 26},\n",
       " {'id': 697, 'category': 5, 'stationID': '66', 'filtros_id': 26},\n",
       " {'id': 698, 'category': 5, 'stationID': '56', 'filtros_id': 26},\n",
       " {'id': 699, 'category': 5, 'stationID': '62', 'filtros_id': 26},\n",
       " {'id': 700, 'category': 4, 'stationID': '51', 'filtros_id': 26},\n",
       " {'id': 701, 'category': 4, 'stationID': '52', 'filtros_id': 26},\n",
       " {'id': 702, 'category': 5, 'stationID': '63', 'filtros_id': 26},\n",
       " {'id': 703, 'category': 5, 'stationID': '65', 'filtros_id': 26},\n",
       " {'id': 704, 'category': 4, 'stationID': '15', 'filtros_id': 26},\n",
       " {'id': 705, 'category': 5, 'stationID': '24', 'filtros_id': 26},\n",
       " {'id': 706, 'category': 4, 'stationID': '42', 'filtros_id': 26},\n",
       " {'id': 707, 'category': 4, 'stationID': '13', 'filtros_id': 26},\n",
       " {'id': 708, 'category': 5, 'stationID': '17', 'filtros_id': 26},\n",
       " {'id': 709, 'category': 5, 'stationID': '64', 'filtros_id': 26},\n",
       " {'id': 710, 'category': 5, 'stationID': '23', 'filtros_id': 26},\n",
       " {'id': 711, 'category': 5, 'stationID': '68', 'filtros_id': 26},\n",
       " {'id': 712, 'category': 5, 'stationID': '20', 'filtros_id': 26},\n",
       " {'id': 713, 'category': 4, 'stationID': '31', 'filtros_id': 26},\n",
       " {'id': 714, 'category': 4, 'stationID': '54', 'filtros_id': 26},\n",
       " {'id': 715, 'category': 4, 'stationID': '16', 'filtros_id': 26},\n",
       " {'id': 716, 'category': 4, 'stationID': '12', 'filtros_id': 26},\n",
       " {'id': 717, 'category': 5, 'stationID': '44', 'filtros_id': 26}]"
      ]
     },
     "execution_count": 107,
     "metadata": {},
     "output_type": "execute_result"
    }
   ],
   "source": [
    "params_status = {\"serietemporal\": ts, \"fecha\": date_name, \"temporalidad\": cat_scale}\n",
    "get_status = requests.get(url=url_base+\"estadohidro/datoscat\",headers=headers,params=params_status,verify=False)\n",
    "get_status.close()\n",
    "# Convert it to json and dataframe\n",
    "response_status = json.loads(get_status.content.decode('utf-8'))\n",
    "response_status"
   ]
  }
 ],
 "metadata": {
  "kernelspec": {
   "display_name": "HydroSOS",
   "language": "python",
   "name": "python3"
  },
  "language_info": {
   "codemirror_mode": {
    "name": "ipython",
    "version": 3
   },
   "file_extension": ".py",
   "mimetype": "text/x-python",
   "name": "python",
   "nbconvert_exporter": "python",
   "pygments_lexer": "ipython3",
   "version": "3.10.8"
  }
 },
 "nbformat": 4,
 "nbformat_minor": 2
}
