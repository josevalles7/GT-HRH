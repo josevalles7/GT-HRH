{
 "cells": [
  {
   "cell_type": "markdown",
   "metadata": {},
   "source": [
    "# HydroSOS Streamflow Status Product Methodology\n",
    "#### Jose Valles (jose.valles.leon@gmail.com)"
   ]
  },
  {
   "cell_type": "code",
   "execution_count": 1,
   "metadata": {},
   "outputs": [],
   "source": [
    "# Import libraries\n",
    "import os\n",
    "import sys\n",
    "import requests\n",
    "import json \n",
    "\n",
    "from IPython.display import HTML\n",
    "\n",
    "\n",
    "# This code line allows to remove warning produce by verify = False\n",
    "from requests.packages.urllib3.exceptions import InsecureRequestWarning\n",
    "requests.packages.urllib3.disable_warnings(InsecureRequestWarning)"
   ]
  },
  {
   "cell_type": "markdown",
   "metadata": {},
   "source": [
    "Import HydroSOS_scripts module package \\\n",
    "Make sure that in the path command is defined the folder path of the HydroSOS_script package"
   ]
  },
  {
   "cell_type": "code",
   "execution_count": 2,
   "metadata": {},
   "outputs": [],
   "source": [
    "# Define the path to the python HydroSOS Package\n",
    "sys.path.append('..')\n",
    "\n",
    "import HydroSOS_scripts.get_status_product as SOS\n",
    "import HydroSOS_scripts.aggregate_variable as aggvar\n"
   ]
  },
  {
   "cell_type": "markdown",
   "metadata": {},
   "source": [
    "## Test HydroSOS Package using a single csv file\n",
    "First, we are going to test the package for a single streamflow location. \\\n",
    "the user must provide the input directory of the file (or files) and the filename"
   ]
  },
  {
   "cell_type": "code",
   "execution_count": 28,
   "metadata": {},
   "outputs": [],
   "source": [
    "input_directory = '../data/'\n",
    "filename = '1630.csv'"
   ]
  },
  {
   "cell_type": "markdown",
   "metadata": {},
   "source": [
    "We will use the import_data function which allows to import data from a csv file \\\n",
    "Recall that the csv file should have three columns: stationid, date, flow, "
   ]
  },
  {
   "cell_type": "code",
   "execution_count": 30,
   "metadata": {},
   "outputs": [
    {
     "name": "stdout",
     "output_type": "stream",
     "text": [
      "Realizando operación para serie diaria de caudales en estaciones hidrometrica\n"
     ]
    },
    {
     "ename": "AttributeError",
     "evalue": "'str' object has no attribute 'strftime'",
     "output_type": "error",
     "traceback": [
      "\u001b[1;31m---------------------------------------------------------------------------\u001b[0m",
      "\u001b[1;31mAttributeError\u001b[0m                            Traceback (most recent call last)",
      "Cell \u001b[1;32mIn[30], line 9\u001b[0m\n\u001b[0;32m      5\u001b[0m     \u001b[38;5;66;03m# Aquí puedes agregar la operación que deseas\u001b[39;00m\n\u001b[0;32m      6\u001b[0m \u001b[38;5;28;01melse\u001b[39;00m:\n\u001b[0;32m      7\u001b[0m     \u001b[38;5;66;03m# Operación si 'waterbalance' no está en el input_directory\u001b[39;00m\n\u001b[0;32m      8\u001b[0m     \u001b[38;5;28mprint\u001b[39m(\u001b[38;5;124m\"\u001b[39m\u001b[38;5;124mRealizando operación para serie diaria de caudales en estaciones hidrometrica\u001b[39m\u001b[38;5;124m\"\u001b[39m)\n\u001b[1;32m----> 9\u001b[0m     flowdata, stationid \u001b[38;5;241m=\u001b[39m \u001b[43maggvar\u001b[49m\u001b[38;5;241;43m.\u001b[39;49m\u001b[43mimport_data\u001b[49m\u001b[43m(\u001b[49m\u001b[43minput_directory\u001b[49m\u001b[43m,\u001b[49m\u001b[43m \u001b[49m\u001b[43mfilename\u001b[49m\u001b[43m)\u001b[49m\n\u001b[0;32m     10\u001b[0m     MONTHLY_DISCHARGE \u001b[38;5;241m=\u001b[39m aggvar\u001b[38;5;241m.\u001b[39mcalculate_monthly(flowdata)\n\u001b[0;32m     11\u001b[0m     \u001b[38;5;66;03m# Aquí puedes agregar la operación alternativa\u001b[39;00m\n",
      "File \u001b[1;32md:\\GitHub\\GT-HRH\\HydroSOS\\notebook\\..\\HydroSOS_scripts\\aggregate_variable.py:23\u001b[0m, in \u001b[0;36mimport_data\u001b[1;34m(input_directory, filename)\u001b[0m\n\u001b[0;32m     20\u001b[0m \u001b[38;5;28;01mdef\u001b[39;00m \u001b[38;5;21mimport_data\u001b[39m(input_directory,filename):\n\u001b[0;32m     22\u001b[0m     flowdata \u001b[38;5;241m=\u001b[39m pd\u001b[38;5;241m.\u001b[39mread_csv(\u001b[38;5;124mf\u001b[39m\u001b[38;5;124m\"\u001b[39m\u001b[38;5;132;01m{\u001b[39;00minput_directory\u001b[38;5;132;01m}\u001b[39;00m\u001b[38;5;132;01m{\u001b[39;00mfilename\u001b[38;5;132;01m}\u001b[39;00m\u001b[38;5;124m\"\u001b[39m,parse_dates\u001b[38;5;241m=\u001b[39m[\u001b[38;5;124m'\u001b[39m\u001b[38;5;124mFecha\u001b[39m\u001b[38;5;124m'\u001b[39m],index_col\u001b[38;5;241m=\u001b[39m\u001b[38;5;124m\"\u001b[39m\u001b[38;5;124mFecha\u001b[39m\u001b[38;5;124m\"\u001b[39m,dayfirst\u001b[38;5;241m=\u001b[39m\u001b[38;5;28;01mTrue\u001b[39;00m,na_values\u001b[38;5;241m=\u001b[39m\u001b[38;5;124m\"\u001b[39m\u001b[38;5;124mNA\u001b[39m\u001b[38;5;124m\"\u001b[39m)\n\u001b[1;32m---> 23\u001b[0m     diff \u001b[38;5;241m=\u001b[39m pd\u001b[38;5;241m.\u001b[39mdate_range(start \u001b[38;5;241m=\u001b[39m \u001b[43mflowdata\u001b[49m\u001b[38;5;241;43m.\u001b[39;49m\u001b[43mindex\u001b[49m\u001b[43m[\u001b[49m\u001b[38;5;241;43m0\u001b[39;49m\u001b[43m]\u001b[49m\u001b[38;5;241;43m.\u001b[39;49m\u001b[43mstrftime\u001b[49m(\u001b[38;5;124m'\u001b[39m\u001b[38;5;124m%\u001b[39m\u001b[38;5;124mY-\u001b[39m\u001b[38;5;124m%\u001b[39m\u001b[38;5;124mm-\u001b[39m\u001b[38;5;132;01m%d\u001b[39;00m\u001b[38;5;124m'\u001b[39m), end \u001b[38;5;241m=\u001b[39m flowdata\u001b[38;5;241m.\u001b[39mindex[\u001b[38;5;241m-\u001b[39m\u001b[38;5;241m1\u001b[39m]\u001b[38;5;241m.\u001b[39mstrftime(\u001b[38;5;124m'\u001b[39m\u001b[38;5;124m%\u001b[39m\u001b[38;5;124mY-\u001b[39m\u001b[38;5;124m%\u001b[39m\u001b[38;5;124mm-\u001b[39m\u001b[38;5;132;01m%d\u001b[39;00m\u001b[38;5;124m'\u001b[39m),freq\u001b[38;5;241m=\u001b[39m\u001b[38;5;124m'\u001b[39m\u001b[38;5;124mD\u001b[39m\u001b[38;5;124m'\u001b[39m)\n\u001b[0;32m     24\u001b[0m     \u001b[38;5;66;03m# Re-index the dataframe based on the missind date variable\u001b[39;00m\n\u001b[0;32m     25\u001b[0m     flowdata \u001b[38;5;241m=\u001b[39m flowdata\u001b[38;5;241m.\u001b[39mreindex(diff,fill_value\u001b[38;5;241m=\u001b[39m\u001b[38;5;28;01mNone\u001b[39;00m)\n",
      "\u001b[1;31mAttributeError\u001b[0m: 'str' object has no attribute 'strftime'"
     ]
    }
   ],
   "source": [
    "if 'waterbalance' in input_directory:\n",
    "    # Operación si 'waterbalance' está en el input_directory\n",
    "    print(\"Realizando la operación para 'waterbalance'\")\n",
    "    MONTHLY_DISCHARGE, stationid = aggvar.import_monthly(input_directory, filename)\n",
    "    # Aquí puedes agregar la operación que deseas\n",
    "else:\n",
    "    # Operación si 'waterbalance' no está en el input_directory\n",
    "    print(\"Realizando operación para serie diaria de caudales en estaciones hidrometrica\")\n",
    "    flowdata, stationid = aggvar.import_data(input_directory, filename)\n",
    "    MONTHLY_DISCHARGE = aggvar.calculate_monthly(flowdata)\n",
    "    # Aquí puedes agregar la operación alternativa\n",
    "\n",
    "HTML(MONTHLY_DISCHARGE.tail(12).to_html())"
   ]
  },
  {
   "cell_type": "markdown",
   "metadata": {},
   "source": [
    "The workflow of this python package is: \n",
    "* convert daily to monthly discharge\n",
    "* calculate the percentage of average based on the monthly climatology\n",
    "* calculate the rank percentile\n",
    "* using the Weibull formula, we assign the status categories (1-LowFlow, 2-BelowNormal, 3-Normal, 4-AboveNormal, 5-HighFlow)"
   ]
  },
  {
   "cell_type": "code",
   "execution_count": 5,
   "metadata": {},
   "outputs": [
    {
     "data": {
      "text/html": [
       "<table border=\"1\" class=\"dataframe\">\n",
       "  <thead>\n",
       "    <tr style=\"text-align: right;\">\n",
       "      <th></th>\n",
       "      <th>date</th>\n",
       "      <th>month</th>\n",
       "      <th>year</th>\n",
       "      <th>mean_flow</th>\n",
       "      <th>percentile_flow</th>\n",
       "      <th>rank_average</th>\n",
       "      <th>complete%</th>\n",
       "      <th>weibell_rank</th>\n",
       "      <th>percentile_range</th>\n",
       "      <th>flowcat</th>\n",
       "    </tr>\n",
       "  </thead>\n",
       "  <tbody>\n",
       "    <tr>\n",
       "      <th>525</th>\n",
       "      <td>2023-10-01</td>\n",
       "      <td>10</td>\n",
       "      <td>2023</td>\n",
       "      <td>29.884430</td>\n",
       "      <td>-0.680376</td>\n",
       "      <td>10.0</td>\n",
       "      <td>44.0</td>\n",
       "      <td>0.222222</td>\n",
       "      <td>Below normal</td>\n",
       "      <td>2</td>\n",
       "    </tr>\n",
       "    <tr>\n",
       "      <th>526</th>\n",
       "      <td>2023-11-01</td>\n",
       "      <td>11</td>\n",
       "      <td>2023</td>\n",
       "      <td>15.254896</td>\n",
       "      <td>-0.741520</td>\n",
       "      <td>9.0</td>\n",
       "      <td>44.0</td>\n",
       "      <td>0.200000</td>\n",
       "      <td>Below normal</td>\n",
       "      <td>2</td>\n",
       "    </tr>\n",
       "    <tr>\n",
       "      <th>527</th>\n",
       "      <td>2023-12-01</td>\n",
       "      <td>12</td>\n",
       "      <td>2023</td>\n",
       "      <td>68.302716</td>\n",
       "      <td>0.980778</td>\n",
       "      <td>38.0</td>\n",
       "      <td>44.0</td>\n",
       "      <td>0.844444</td>\n",
       "      <td>Above normal</td>\n",
       "      <td>4</td>\n",
       "    </tr>\n",
       "    <tr>\n",
       "      <th>528</th>\n",
       "      <td>2024-01-01</td>\n",
       "      <td>1</td>\n",
       "      <td>2024</td>\n",
       "      <td>31.180262</td>\n",
       "      <td>0.695349</td>\n",
       "      <td>35.0</td>\n",
       "      <td>45.0</td>\n",
       "      <td>0.760870</td>\n",
       "      <td>Above normal</td>\n",
       "      <td>4</td>\n",
       "    </tr>\n",
       "    <tr>\n",
       "      <th>529</th>\n",
       "      <td>2024-02-01</td>\n",
       "      <td>2</td>\n",
       "      <td>2024</td>\n",
       "      <td>14.343698</td>\n",
       "      <td>-0.596178</td>\n",
       "      <td>26.0</td>\n",
       "      <td>45.0</td>\n",
       "      <td>0.565217</td>\n",
       "      <td>Normal range</td>\n",
       "      <td>3</td>\n",
       "    </tr>\n",
       "    <tr>\n",
       "      <th>530</th>\n",
       "      <td>2024-03-01</td>\n",
       "      <td>3</td>\n",
       "      <td>2024</td>\n",
       "      <td>361.387668</td>\n",
       "      <td>6.142502</td>\n",
       "      <td>44.0</td>\n",
       "      <td>45.0</td>\n",
       "      <td>0.956522</td>\n",
       "      <td>High flow</td>\n",
       "      <td>5</td>\n",
       "    </tr>\n",
       "    <tr>\n",
       "      <th>531</th>\n",
       "      <td>2024-04-01</td>\n",
       "      <td>4</td>\n",
       "      <td>2024</td>\n",
       "      <td>233.044506</td>\n",
       "      <td>4.293583</td>\n",
       "      <td>43.0</td>\n",
       "      <td>45.0</td>\n",
       "      <td>0.934783</td>\n",
       "      <td>High flow</td>\n",
       "      <td>5</td>\n",
       "    </tr>\n",
       "    <tr>\n",
       "      <th>532</th>\n",
       "      <td>2024-05-01</td>\n",
       "      <td>5</td>\n",
       "      <td>2024</td>\n",
       "      <td>226.776251</td>\n",
       "      <td>2.511804</td>\n",
       "      <td>43.0</td>\n",
       "      <td>45.0</td>\n",
       "      <td>0.934783</td>\n",
       "      <td>High flow</td>\n",
       "      <td>5</td>\n",
       "    </tr>\n",
       "    <tr>\n",
       "      <th>533</th>\n",
       "      <td>2024-06-01</td>\n",
       "      <td>6</td>\n",
       "      <td>2024</td>\n",
       "      <td>148.281664</td>\n",
       "      <td>0.471169</td>\n",
       "      <td>33.0</td>\n",
       "      <td>45.0</td>\n",
       "      <td>0.717391</td>\n",
       "      <td>Normal range</td>\n",
       "      <td>3</td>\n",
       "    </tr>\n",
       "    <tr>\n",
       "      <th>534</th>\n",
       "      <td>2024-07-01</td>\n",
       "      <td>7</td>\n",
       "      <td>2024</td>\n",
       "      <td>50.619463</td>\n",
       "      <td>-0.533224</td>\n",
       "      <td>15.0</td>\n",
       "      <td>45.0</td>\n",
       "      <td>0.326087</td>\n",
       "      <td>Normal range</td>\n",
       "      <td>3</td>\n",
       "    </tr>\n",
       "    <tr>\n",
       "      <th>535</th>\n",
       "      <td>2024-08-01</td>\n",
       "      <td>8</td>\n",
       "      <td>2024</td>\n",
       "      <td>130.315764</td>\n",
       "      <td>0.165884</td>\n",
       "      <td>31.0</td>\n",
       "      <td>45.0</td>\n",
       "      <td>0.673913</td>\n",
       "      <td>Normal range</td>\n",
       "      <td>3</td>\n",
       "    </tr>\n",
       "    <tr>\n",
       "      <th>536</th>\n",
       "      <td>2024-09-01</td>\n",
       "      <td>9</td>\n",
       "      <td>2024</td>\n",
       "      <td>57.768498</td>\n",
       "      <td>-0.389472</td>\n",
       "      <td>16.0</td>\n",
       "      <td>45.0</td>\n",
       "      <td>0.347826</td>\n",
       "      <td>Normal range</td>\n",
       "      <td>3</td>\n",
       "    </tr>\n",
       "  </tbody>\n",
       "</table>"
      ],
      "text/plain": [
       "<IPython.core.display.HTML object>"
      ]
     },
     "execution_count": 5,
     "metadata": {},
     "output_type": "execute_result"
    }
   ],
   "source": [
    "MONTHLY_STATUS = SOS.monthly_status(MONTHLY_DISCHARGE)\n",
    "HTML(MONTHLY_STATUS.tail(12).to_html())"
   ]
  },
  {
   "cell_type": "code",
   "execution_count": 6,
   "metadata": {},
   "outputs": [
    {
     "name": "stdout",
     "output_type": "stream",
     "text": [
      "CSV FILE GENERATED\n"
     ]
    }
   ],
   "source": [
    "output_directory = '../output_csv/01_month/'\n",
    "filename = stationid\n",
    "\n",
    "SOS.export_csv(MONTHLY_STATUS,output_directory,filename)"
   ]
  },
  {
   "cell_type": "markdown",
   "metadata": {},
   "source": [
    "### Calculate the Accumulated Hydrological Status for 3-Months (Quaterly)\n",
    "\n",
    "After testing the HydroSOS Package and sending the results to Dinagua Web Service, we calculate the accumulated status product"
   ]
  },
  {
   "cell_type": "code",
   "execution_count": 7,
   "metadata": {},
   "outputs": [
    {
     "data": {
      "text/html": [
       "<table border=\"1\" class=\"dataframe\">\n",
       "  <thead>\n",
       "    <tr style=\"text-align: right;\">\n",
       "      <th></th>\n",
       "      <th>date</th>\n",
       "      <th>startMonth</th>\n",
       "      <th>endMonth</th>\n",
       "      <th>month</th>\n",
       "      <th>year</th>\n",
       "      <th>mean_flow</th>\n",
       "    </tr>\n",
       "  </thead>\n",
       "  <tbody>\n",
       "    <tr>\n",
       "      <th>531</th>\n",
       "      <td>2024-04-01</td>\n",
       "      <td>2</td>\n",
       "      <td>4</td>\n",
       "      <td>4</td>\n",
       "      <td>2024</td>\n",
       "      <td>202.925291</td>\n",
       "    </tr>\n",
       "    <tr>\n",
       "      <th>532</th>\n",
       "      <td>2024-05-01</td>\n",
       "      <td>3</td>\n",
       "      <td>5</td>\n",
       "      <td>5</td>\n",
       "      <td>2024</td>\n",
       "      <td>273.736142</td>\n",
       "    </tr>\n",
       "    <tr>\n",
       "      <th>533</th>\n",
       "      <td>2024-06-01</td>\n",
       "      <td>4</td>\n",
       "      <td>6</td>\n",
       "      <td>6</td>\n",
       "      <td>2024</td>\n",
       "      <td>202.700807</td>\n",
       "    </tr>\n",
       "    <tr>\n",
       "      <th>534</th>\n",
       "      <td>2024-07-01</td>\n",
       "      <td>5</td>\n",
       "      <td>7</td>\n",
       "      <td>7</td>\n",
       "      <td>2024</td>\n",
       "      <td>141.892459</td>\n",
       "    </tr>\n",
       "    <tr>\n",
       "      <th>535</th>\n",
       "      <td>2024-08-01</td>\n",
       "      <td>6</td>\n",
       "      <td>8</td>\n",
       "      <td>8</td>\n",
       "      <td>2024</td>\n",
       "      <td>109.738964</td>\n",
       "    </tr>\n",
       "    <tr>\n",
       "      <th>536</th>\n",
       "      <td>2024-09-01</td>\n",
       "      <td>7</td>\n",
       "      <td>9</td>\n",
       "      <td>9</td>\n",
       "      <td>2024</td>\n",
       "      <td>79.567909</td>\n",
       "    </tr>\n",
       "  </tbody>\n",
       "</table>"
      ],
      "text/plain": [
       "<IPython.core.display.HTML object>"
      ]
     },
     "execution_count": 7,
     "metadata": {},
     "output_type": "execute_result"
    }
   ],
   "source": [
    "DISCHARGE_THREE_MONTHS = aggvar.calculate_accumulated(MONTHLY_DISCHARGE, 3)\n",
    "HTML(DISCHARGE_THREE_MONTHS.tail(6).to_html())"
   ]
  },
  {
   "cell_type": "code",
   "execution_count": 8,
   "metadata": {},
   "outputs": [
    {
     "data": {
      "text/html": [
       "<table border=\"1\" class=\"dataframe\">\n",
       "  <thead>\n",
       "    <tr style=\"text-align: right;\">\n",
       "      <th></th>\n",
       "      <th>date</th>\n",
       "      <th>startMonth</th>\n",
       "      <th>endMonth</th>\n",
       "      <th>month</th>\n",
       "      <th>year</th>\n",
       "      <th>mean_flow</th>\n",
       "      <th>percentage_flow</th>\n",
       "      <th>rank_average</th>\n",
       "      <th>complete%</th>\n",
       "      <th>weibell_rank</th>\n",
       "      <th>percentile_range</th>\n",
       "      <th>flowcat</th>\n",
       "      <th>period</th>\n",
       "    </tr>\n",
       "  </thead>\n",
       "  <tbody>\n",
       "    <tr>\n",
       "      <th>531</th>\n",
       "      <td>2024-04-01</td>\n",
       "      <td>2</td>\n",
       "      <td>4</td>\n",
       "      <td>4</td>\n",
       "      <td>2024</td>\n",
       "      <td>202.925291</td>\n",
       "      <td>3.974243</td>\n",
       "      <td>44.0</td>\n",
       "      <td>45.0</td>\n",
       "      <td>0.956522</td>\n",
       "      <td>High flow</td>\n",
       "      <td>5</td>\n",
       "      <td>FMA</td>\n",
       "    </tr>\n",
       "    <tr>\n",
       "      <th>532</th>\n",
       "      <td>2024-05-01</td>\n",
       "      <td>3</td>\n",
       "      <td>5</td>\n",
       "      <td>5</td>\n",
       "      <td>2024</td>\n",
       "      <td>273.736142</td>\n",
       "      <td>4.131489</td>\n",
       "      <td>44.0</td>\n",
       "      <td>45.0</td>\n",
       "      <td>0.956522</td>\n",
       "      <td>High flow</td>\n",
       "      <td>5</td>\n",
       "      <td>MAM</td>\n",
       "    </tr>\n",
       "    <tr>\n",
       "      <th>533</th>\n",
       "      <td>2024-06-01</td>\n",
       "      <td>4</td>\n",
       "      <td>6</td>\n",
       "      <td>6</td>\n",
       "      <td>2024</td>\n",
       "      <td>202.700807</td>\n",
       "      <td>1.898556</td>\n",
       "      <td>42.0</td>\n",
       "      <td>45.0</td>\n",
       "      <td>0.913043</td>\n",
       "      <td>High flow</td>\n",
       "      <td>5</td>\n",
       "      <td>AMJ</td>\n",
       "    </tr>\n",
       "    <tr>\n",
       "      <th>534</th>\n",
       "      <td>2024-07-01</td>\n",
       "      <td>5</td>\n",
       "      <td>7</td>\n",
       "      <td>7</td>\n",
       "      <td>2024</td>\n",
       "      <td>141.892459</td>\n",
       "      <td>0.580126</td>\n",
       "      <td>39.0</td>\n",
       "      <td>45.0</td>\n",
       "      <td>0.847826</td>\n",
       "      <td>Above normal</td>\n",
       "      <td>4</td>\n",
       "      <td>MJJ</td>\n",
       "    </tr>\n",
       "    <tr>\n",
       "      <th>535</th>\n",
       "      <td>2024-08-01</td>\n",
       "      <td>6</td>\n",
       "      <td>8</td>\n",
       "      <td>8</td>\n",
       "      <td>2024</td>\n",
       "      <td>109.738964</td>\n",
       "      <td>0.055100</td>\n",
       "      <td>24.0</td>\n",
       "      <td>45.0</td>\n",
       "      <td>0.521739</td>\n",
       "      <td>Normal range</td>\n",
       "      <td>3</td>\n",
       "      <td>JJA</td>\n",
       "    </tr>\n",
       "    <tr>\n",
       "      <th>536</th>\n",
       "      <td>2024-09-01</td>\n",
       "      <td>7</td>\n",
       "      <td>9</td>\n",
       "      <td>9</td>\n",
       "      <td>2024</td>\n",
       "      <td>79.567909</td>\n",
       "      <td>-0.215140</td>\n",
       "      <td>15.0</td>\n",
       "      <td>45.0</td>\n",
       "      <td>0.326087</td>\n",
       "      <td>Normal range</td>\n",
       "      <td>3</td>\n",
       "      <td>JAS</td>\n",
       "    </tr>\n",
       "  </tbody>\n",
       "</table>"
      ],
      "text/plain": [
       "<IPython.core.display.HTML object>"
      ]
     },
     "execution_count": 8,
     "metadata": {},
     "output_type": "execute_result"
    }
   ],
   "source": [
    "QUATERLY_STATUS = SOS.quarterly_status(DISCHARGE_THREE_MONTHS)\n",
    "HTML(QUATERLY_STATUS.tail(6).to_html())"
   ]
  },
  {
   "cell_type": "markdown",
   "metadata": {},
   "source": [
    "### Calculate the Accumulated Hydrological Status for 12-Months (Annualy)\n",
    "\n",
    "After testing the HydroSOS Package and sending the results to Dinagua Web Service, we calculate the accumulated status product"
   ]
  },
  {
   "cell_type": "code",
   "execution_count": 9,
   "metadata": {},
   "outputs": [
    {
     "data": {
      "text/html": [
       "<table border=\"1\" class=\"dataframe\">\n",
       "  <thead>\n",
       "    <tr style=\"text-align: right;\">\n",
       "      <th></th>\n",
       "      <th>date</th>\n",
       "      <th>startMonth</th>\n",
       "      <th>endMonth</th>\n",
       "      <th>month</th>\n",
       "      <th>year</th>\n",
       "      <th>mean_flow</th>\n",
       "    </tr>\n",
       "  </thead>\n",
       "  <tbody>\n",
       "    <tr>\n",
       "      <th>531</th>\n",
       "      <td>2024-04-01</td>\n",
       "      <td>5</td>\n",
       "      <td>4</td>\n",
       "      <td>4</td>\n",
       "      <td>2024</td>\n",
       "      <td>70.116038</td>\n",
       "    </tr>\n",
       "    <tr>\n",
       "      <th>532</th>\n",
       "      <td>2024-05-01</td>\n",
       "      <td>6</td>\n",
       "      <td>5</td>\n",
       "      <td>5</td>\n",
       "      <td>2024</td>\n",
       "      <td>88.903716</td>\n",
       "    </tr>\n",
       "    <tr>\n",
       "      <th>533</th>\n",
       "      <td>2024-06-01</td>\n",
       "      <td>7</td>\n",
       "      <td>6</td>\n",
       "      <td>6</td>\n",
       "      <td>2024</td>\n",
       "      <td>101.218154</td>\n",
       "    </tr>\n",
       "    <tr>\n",
       "      <th>534</th>\n",
       "      <td>2024-07-01</td>\n",
       "      <td>8</td>\n",
       "      <td>7</td>\n",
       "      <td>7</td>\n",
       "      <td>2024</td>\n",
       "      <td>105.420963</td>\n",
       "    </tr>\n",
       "    <tr>\n",
       "      <th>535</th>\n",
       "      <td>2024-08-01</td>\n",
       "      <td>9</td>\n",
       "      <td>8</td>\n",
       "      <td>8</td>\n",
       "      <td>2024</td>\n",
       "      <td>113.303619</td>\n",
       "    </tr>\n",
       "    <tr>\n",
       "      <th>536</th>\n",
       "      <td>2024-09-01</td>\n",
       "      <td>10</td>\n",
       "      <td>9</td>\n",
       "      <td>9</td>\n",
       "      <td>2024</td>\n",
       "      <td>113.929985</td>\n",
       "    </tr>\n",
       "  </tbody>\n",
       "</table>"
      ],
      "text/plain": [
       "<IPython.core.display.HTML object>"
      ]
     },
     "execution_count": 9,
     "metadata": {},
     "output_type": "execute_result"
    }
   ],
   "source": [
    "DISCHARGE_TWELVE_MONTHS = aggvar.calculate_accumulated(MONTHLY_DISCHARGE, 12)\n",
    "HTML(DISCHARGE_TWELVE_MONTHS.tail(6).to_html())"
   ]
  },
  {
   "cell_type": "code",
   "execution_count": 10,
   "metadata": {},
   "outputs": [
    {
     "data": {
      "text/html": [
       "<table border=\"1\" class=\"dataframe\">\n",
       "  <thead>\n",
       "    <tr style=\"text-align: right;\">\n",
       "      <th></th>\n",
       "      <th>date</th>\n",
       "      <th>startMonth</th>\n",
       "      <th>endMonth</th>\n",
       "      <th>month</th>\n",
       "      <th>year</th>\n",
       "      <th>mean_flow</th>\n",
       "      <th>percentage_flow</th>\n",
       "      <th>rank_average</th>\n",
       "      <th>complete%</th>\n",
       "      <th>weibull_rank</th>\n",
       "      <th>percentile_range</th>\n",
       "      <th>flowcat</th>\n",
       "    </tr>\n",
       "  </thead>\n",
       "  <tbody>\n",
       "    <tr>\n",
       "      <th>531</th>\n",
       "      <td>2024-04-01</td>\n",
       "      <td>5</td>\n",
       "      <td>4</td>\n",
       "      <td>4</td>\n",
       "      <td>2024</td>\n",
       "      <td>70.116038</td>\n",
       "      <td>0.053876</td>\n",
       "      <td>24.0</td>\n",
       "      <td>44.0</td>\n",
       "      <td>0.533333</td>\n",
       "      <td>Normal range</td>\n",
       "      <td>3</td>\n",
       "    </tr>\n",
       "    <tr>\n",
       "      <th>532</th>\n",
       "      <td>2024-05-01</td>\n",
       "      <td>6</td>\n",
       "      <td>5</td>\n",
       "      <td>5</td>\n",
       "      <td>2024</td>\n",
       "      <td>88.903716</td>\n",
       "      <td>0.340311</td>\n",
       "      <td>31.0</td>\n",
       "      <td>44.0</td>\n",
       "      <td>0.688889</td>\n",
       "      <td>Normal range</td>\n",
       "      <td>3</td>\n",
       "    </tr>\n",
       "    <tr>\n",
       "      <th>533</th>\n",
       "      <td>2024-06-01</td>\n",
       "      <td>7</td>\n",
       "      <td>6</td>\n",
       "      <td>6</td>\n",
       "      <td>2024</td>\n",
       "      <td>101.218154</td>\n",
       "      <td>0.534485</td>\n",
       "      <td>39.0</td>\n",
       "      <td>44.0</td>\n",
       "      <td>0.866667</td>\n",
       "      <td>Above normal</td>\n",
       "      <td>4</td>\n",
       "    </tr>\n",
       "    <tr>\n",
       "      <th>534</th>\n",
       "      <td>2024-07-01</td>\n",
       "      <td>8</td>\n",
       "      <td>7</td>\n",
       "      <td>7</td>\n",
       "      <td>2024</td>\n",
       "      <td>105.420963</td>\n",
       "      <td>0.597024</td>\n",
       "      <td>38.0</td>\n",
       "      <td>44.0</td>\n",
       "      <td>0.844444</td>\n",
       "      <td>Above normal</td>\n",
       "      <td>4</td>\n",
       "    </tr>\n",
       "    <tr>\n",
       "      <th>535</th>\n",
       "      <td>2024-08-01</td>\n",
       "      <td>9</td>\n",
       "      <td>8</td>\n",
       "      <td>8</td>\n",
       "      <td>2024</td>\n",
       "      <td>113.303619</td>\n",
       "      <td>0.720563</td>\n",
       "      <td>41.0</td>\n",
       "      <td>44.0</td>\n",
       "      <td>0.911111</td>\n",
       "      <td>High flow</td>\n",
       "      <td>5</td>\n",
       "    </tr>\n",
       "    <tr>\n",
       "      <th>536</th>\n",
       "      <td>2024-09-01</td>\n",
       "      <td>10</td>\n",
       "      <td>9</td>\n",
       "      <td>9</td>\n",
       "      <td>2024</td>\n",
       "      <td>113.929985</td>\n",
       "      <td>0.727711</td>\n",
       "      <td>41.0</td>\n",
       "      <td>44.0</td>\n",
       "      <td>0.911111</td>\n",
       "      <td>High flow</td>\n",
       "      <td>5</td>\n",
       "    </tr>\n",
       "  </tbody>\n",
       "</table>"
      ],
      "text/plain": [
       "<IPython.core.display.HTML object>"
      ]
     },
     "execution_count": 10,
     "metadata": {},
     "output_type": "execute_result"
    }
   ],
   "source": [
    "ANNUALY_STATUS = SOS.annualy_status(DISCHARGE_TWELVE_MONTHS)\n",
    "HTML(ANNUALY_STATUS.tail(6).to_html())"
   ]
  },
  {
   "cell_type": "markdown",
   "metadata": {},
   "source": [
    "## Test the HydroSOS Package using all the csv file from an input directory\n",
    "\n",
    "Now we are going to do the same process for all the csv file in the input directory"
   ]
  },
  {
   "cell_type": "code",
   "execution_count": 32,
   "metadata": {},
   "outputs": [
    {
     "name": "stdout",
     "output_type": "stream",
     "text": [
      "101\n",
      "There are 44 years of data in this file.\n",
      "There are 2441 missing data points, which is 14.93% of the total data\n",
      "CSV FILE GENERATED\n",
      "==================================================================\n",
      "1170\n",
      "There are 44 years of data in this file.\n",
      "There are 1201 missing data points, which is 7.35% of the total data\n",
      "CSV FILE GENERATED\n",
      "==================================================================\n",
      "1190\n",
      "There are 43 years of data in this file.\n",
      "There are 353 missing data points, which is 2.22% of the total data\n",
      "CSV FILE GENERATED\n",
      "==================================================================\n",
      "1230\n",
      "There are 43 years of data in this file.\n",
      "There are 1263 missing data points, which is 7.91% of the total data\n",
      "CSV FILE GENERATED\n",
      "==================================================================\n",
      "1330\n",
      "There are 44 years of data in this file.\n",
      "There are 1429 missing data points, which is 8.74% of the total data\n",
      "CSV FILE GENERATED\n",
      "==================================================================\n",
      "140\n",
      "There are 44 years of data in this file.\n",
      "There are 2833 missing data points, which is 17.49% of the total data\n",
      "CSV FILE GENERATED\n",
      "==================================================================\n",
      "1410\n",
      "There are 38 years of data in this file.\n",
      "There are 1874 missing data points, which is 13.44% of the total data\n",
      "CSV FILE GENERATED\n",
      "==================================================================\n",
      "150\n",
      "There are 44 years of data in this file.\n",
      "There are 449 missing data points, which is 2.75% of the total data\n",
      "CSV FILE GENERATED\n",
      "==================================================================\n",
      "22060\n",
      "There are 49 years of data in this file.\n",
      "There are 87 missing data points, which is 0.48% of the total data\n",
      "CSV FILE GENERATED\n",
      "==================================================================\n",
      "440\n",
      "There are 44 years of data in this file.\n",
      "There are 2598 missing data points, which is 15.89% of the total data\n",
      "CSV FILE GENERATED\n",
      "==================================================================\n",
      "511\n",
      "There are 42 years of data in this file.\n",
      "There are 103 missing data points, which is 0.67% of the total data\n",
      "CSV FILE GENERATED\n",
      "==================================================================\n",
      "520\n",
      "There are 44 years of data in this file.\n",
      "There are 150 missing data points, which is 0.93% of the total data\n",
      "CSV FILE GENERATED\n",
      "==================================================================\n",
      "531\n",
      "There are 42 years of data in this file.\n",
      "There are 1095 missing data points, which is 7.01% of the total data\n",
      "CSV FILE GENERATED\n",
      "==================================================================\n",
      "591\n",
      "There are 40 years of data in this file.\n",
      "There are 790 missing data points, which is 5.39% of the total data\n",
      "CSV FILE GENERATED\n",
      "==================================================================\n",
      "651\n",
      "There are 40 years of data in this file.\n",
      "There are 274 missing data points, which is 1.88% of the total data\n",
      "CSV FILE GENERATED\n",
      "==================================================================\n",
      "820\n",
      "There are 36 years of data in this file.\n",
      "There are 5859 missing data points, which is 44.24% of the total data\n",
      "CSV FILE GENERATED\n",
      "==================================================================\n",
      "970\n",
      "There are 44 years of data in this file.\n",
      "There are 1381 missing data points, which is 8.45% of the total data\n",
      "CSV FILE GENERATED\n",
      "==================================================================\n"
     ]
    }
   ],
   "source": [
    "input_directory = '../data/'\n",
    "for f in os.listdir(input_directory):\n",
    "    if f.endswith('.csv'):\n",
    "        flowdata, stationid = aggvar.import_data(input_directory, filename = f)\n",
    "        MONTHLY_DISCHARGE = aggvar.calculate_monthly(flowdata)\n",
    "        MONTHLY_STATUS = SOS.monthly_status(MONTHLY_DISCHARGE)\n",
    "        SOS.export_csv(MONTHLY_STATUS, output_directory='../output_csv/01_month/',filename = stationid)\n",
    "        print(\"==================================================================\")"
   ]
  },
  {
   "cell_type": "markdown",
   "metadata": {},
   "source": [
    "Now, we'll create json files using the csv files from all the stations"
   ]
  },
  {
   "cell_type": "code",
   "execution_count": 33,
   "metadata": {},
   "outputs": [
    {
     "name": "stdout",
     "output_type": "stream",
     "text": [
      "JSON FILE GENERATED\n"
     ]
    }
   ],
   "source": [
    "SOS.csv_to_json('../output_csv/01_month','../output_json/01_month')"
   ]
  },
  {
   "cell_type": "markdown",
   "metadata": {},
   "source": [
    "## Send the results to Dinagua Web Service for publishing\n",
    "\n",
    "After creating the json file for the corresponding year-month, we will update the Web Service using the following process"
   ]
  },
  {
   "cell_type": "code",
   "execution_count": 36,
   "metadata": {},
   "outputs": [],
   "source": [
    "# Ambiente produccion\n",
    "url_base = 'https://www.ambiente.gub.uy/dinaguaws/'\n",
    "# Username and password\n",
    "user_dinagua = {\"user\":\"FEWS-Uruguay\",\"password\":\"4MEzOeKFgp0pj9lATSIF\"}\n",
    "# Get the token from DINAGUA WS\n",
    "response_token = requests.post(url=url_base + \"gettoken\", json=user_dinagua, verify=False);\n",
    "response_token.close()\n",
    "# Extract token and assign it to a variable\n",
    "token = response_token.text\n",
    "# Add the token to a bearer authorization\n",
    "headers = {\"Authorization\" : \"Bearer \" + token}"
   ]
  },
  {
   "cell_type": "markdown",
   "metadata": {},
   "source": [
    "POST Method for creating the filter Id"
   ]
  },
  {
   "cell_type": "code",
   "execution_count": 37,
   "metadata": {},
   "outputs": [
    {
     "name": "stdout",
     "output_type": "stream",
     "text": [
      "Filtro guardado con éxito\n"
     ]
    }
   ],
   "source": [
    "# Locate the corresponding json file\n",
    "json_file = '../output_json/01_month/2024-09.json'\n",
    "# Define Parameters\n",
    "date_name = json_file.split('/')[-1].split('.')[0]\n",
    "cat_scale = 1\n",
    "ts = \"Estaciones\"\n",
    "\n",
    "# create the json dictonary\n",
    "dataFiltro = {\"fecha\": date_name,\"temporalidad\": cat_scale,\"serietemporal\": ts}\n",
    "\n",
    "# POST Save Filter\n",
    "post_filtro = requests.post(url=url_base + \"estadohidro/datoscat/guardarFiltro\", headers = headers, json=dataFiltro, verify=False)\n",
    "post_filtro.close()\n",
    "print(post_filtro.text)"
   ]
  },
  {
   "cell_type": "markdown",
   "metadata": {},
   "source": [
    "GET Method for extracting the FilterID"
   ]
  },
  {
   "cell_type": "code",
   "execution_count": 38,
   "metadata": {},
   "outputs": [
    {
     "name": "stdout",
     "output_type": "stream",
     "text": [
      "34\n"
     ]
    }
   ],
   "source": [
    "# Create the json dictonary\n",
    "params_filtros = {\"fecha\" : date_name, \"temporalidad\" : cat_scale, \"serietemporal\" : ts}\n",
    "# Send requests\n",
    "get_filtro_id = requests.get(url = url_base + \"estadohidro/filtros\",headers=headers, params=params_filtros, verify=False)\n",
    "get_filtro_id.close()\n",
    "# print id\n",
    "id = json.loads(get_filtro_id.content.decode('utf-8'))\n",
    "id = id[0][\"id\"]\n",
    "print(id)"
   ]
  },
  {
   "cell_type": "markdown",
   "metadata": {},
   "source": [
    "POST HydroSOS Status for the corresponding Month/Year"
   ]
  },
  {
   "cell_type": "code",
   "execution_count": 39,
   "metadata": {},
   "outputs": [
    {
     "name": "stdout",
     "output_type": "stream",
     "text": [
      "DatosCat guardado con éxito\n"
     ]
    }
   ],
   "source": [
    "# Creating the Request Body\n",
    "datosCat = {\"filtrosId\": {id}}\n",
    "# importing the json file from the output directory\n",
    "json_body = open(json_file)\n",
    "json_body = json.load(json_body)\n",
    "# POST HydroSOS status \n",
    "post_estado = requests.post(url=url_base+\"estadohidro/datoscat/guardarDatosCat\",headers=headers,params=datosCat,json=json_body,verify=False)\n",
    "post_estado.close()\n",
    "print(post_estado.text)"
   ]
  },
  {
   "cell_type": "markdown",
   "metadata": {},
   "source": [
    "We are going to see if the hydrological status is correctly added in the service"
   ]
  },
  {
   "cell_type": "code",
   "execution_count": 40,
   "metadata": {},
   "outputs": [],
   "source": [
    "params_status = {\"serietemporal\": ts, \"fecha\": date_name, \"temporalidad\": cat_scale}\n",
    "get_status = requests.get(url=url_base+\"estadohidro/datoscat\",headers=headers,params=params_status,verify=False)\n",
    "get_status.close()\n",
    "# Convert it to json and dataframe\n",
    "response_status = json.loads(get_status.content.decode('utf-8'))"
   ]
  }
 ],
 "metadata": {
  "kernelspec": {
   "display_name": "HydroSOS",
   "language": "python",
   "name": "python3"
  },
  "language_info": {
   "codemirror_mode": {
    "name": "ipython",
    "version": 3
   },
   "file_extension": ".py",
   "mimetype": "text/x-python",
   "name": "python",
   "nbconvert_exporter": "python",
   "pygments_lexer": "ipython3",
   "version": "3.10.8"
  }
 },
 "nbformat": 4,
 "nbformat_minor": 2
}
